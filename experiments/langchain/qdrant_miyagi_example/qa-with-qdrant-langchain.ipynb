{
 "cells": [
  {
   "cell_type": "markdown",
   "metadata": {
    "slideshow": {
     "slide_type": "slide"
    }
   },
   "source": [
    "# Miyagi Conversation use case using Langchain and Qdrant\n",
    "\n",
    "Qdrant implemented the [fastest vector index algorithm](https://qdrant.tech/documentation/indexing/#vector-index) (as of '23), HNSW, and SK is also planning to leverage Qdrant. So this will be our first choice for vector store with Miyagi use cases.\n"
   ]
  },
  {
   "cell_type": "code",
   "execution_count": null,
   "outputs": [],
   "source": [
    "! pip install langchain qdrant-client openai cohere\n",
    "! pip install sentence-transformers\n",
    "! pip install wget"
   ],
   "metadata": {
    "collapsed": false,
    "pycharm": {
     "is_executing": true
    }
   }
  },
  {
   "cell_type": "code",
   "execution_count": 43,
   "metadata": {
    "ExecuteTime": {
     "end_time": "2023-02-21T13:16:08.569628Z",
     "start_time": "2023-02-21T13:16:08.555642Z"
    },
    "slideshow": {
     "slide_type": "subslide"
    }
   },
   "outputs": [
    {
     "data": {
      "text/plain": "'What is your minimum asset requirement?: $5 million or more.'"
     },
     "execution_count": 43,
     "metadata": {},
     "output_type": "execute_result"
    }
   ],
   "source": [
    "import json\n",
    "\n",
    "# loaded some random questions from\n",
    "# https://pillarwm.com/10-questions-to-ask-your-wealth-manager-and-the-answers-you-want/\n",
    "with open(\"user-questions.json\", \"r\") as fp:\n",
    "    questions = json.load(fp)\n",
    "\n",
    "with open(\"miyagi-answers.json\", \"r\") as fp:\n",
    "    answers = json.load(fp)\n",
    "\n",
    "questions[0] + \": \" + answers[0]"
   ]
  },
  {
   "cell_type": "code",
   "execution_count": 50,
   "outputs": [],
   "source": [
    "import os\n",
    "os.environ[\"OPENAI_API_TYPE\"] = \"azure\"\n",
    "os.environ[\"OPENAI_API_BASE\"] = \"https://reddog-openai.openai.azure.com/\"\n",
    "os.environ[\"OPENAI_API_KEY\"] = \"<AZ_OPENAI_KEY>\""
   ],
   "metadata": {
    "collapsed": false
   }
  },
  {
   "cell_type": "code",
   "execution_count": 59,
   "metadata": {
    "ExecuteTime": {
     "end_time": "2023-02-21T13:16:09.214176Z",
     "start_time": "2023-02-21T13:16:08.654134Z"
    },
    "slideshow": {
     "slide_type": "fragment"
    }
   },
   "outputs": [],
   "source": [
    "from langchain.embeddings import OpenAIEmbeddings"
   ]
  },
  {
   "cell_type": "code",
   "execution_count": 60,
   "metadata": {
    "ExecuteTime": {
     "end_time": "2023-02-21T13:16:11.821665Z",
     "start_time": "2023-02-21T13:16:09.218935Z"
    },
    "slideshow": {
     "slide_type": "fragment"
    }
   },
   "outputs": [],
   "source": [
    "embeddings = OpenAIEmbeddings()"
   ]
  },
  {
   "cell_type": "code",
   "execution_count": null,
   "metadata": {
    "ExecuteTime": {
     "end_time": "2023-02-21T13:16:13.834129Z",
     "start_time": "2023-02-21T13:16:11.823306Z"
    },
    "slideshow": {
     "slide_type": "fragment"
    },
    "pycharm": {
     "is_executing": true
    }
   },
   "outputs": [],
   "source": [
    "! docker run -d -p \"6333:6333\" -p \"6334:6334\" qdrant/qdrant:latest"
   ]
  },
  {
   "cell_type": "code",
   "execution_count": 61,
   "metadata": {
    "ExecuteTime": {
     "end_time": "2023-02-21T13:16:13.848909Z",
     "start_time": "2023-02-21T13:16:13.841087Z"
    },
    "slideshow": {
     "slide_type": "fragment"
    }
   },
   "outputs": [],
   "source": [
    "from langchain.vectorstores import Qdrant"
   ]
  },
  {
   "cell_type": "code",
   "execution_count": 62,
   "metadata": {
    "ExecuteTime": {
     "end_time": "2023-02-21T13:16:21.506101Z",
     "start_time": "2023-02-21T13:16:13.850605Z"
    },
    "slideshow": {
     "slide_type": "fragment"
    }
   },
   "outputs": [],
   "source": [
    "doc_store = Qdrant.from_texts(\n",
    "    answers, embeddings, host=\"localhost\" \n",
    ")"
   ]
  },
  {
   "cell_type": "code",
   "execution_count": 63,
   "metadata": {
    "ExecuteTime": {
     "end_time": "2023-02-21T13:16:21.529576Z",
     "start_time": "2023-02-21T13:16:21.508553Z"
    },
    "slideshow": {
     "slide_type": "subslide"
    }
   },
   "outputs": [
    {
     "data": {
      "text/plain": "[Document(page_content='Use strategic management, charge no commissions or hidden fees, disclose everything, and minimize taxes.', lookup_str='', metadata={}, lookup_index=0),\n Document(page_content='$5 million or more.', lookup_str='', metadata={}, lookup_index=0),\n Document(page_content='Close to the wealth managers years of experience. If he has 20 years of experience, look for clients whove been with him for over ten years on average. If 30 years of experience, then over 20 years on average.', lookup_str='', metadata={}, lookup_index=0),\n Document(page_content='At least 10 years. Answers may vary.', lookup_str='', metadata={}, lookup_index=0)]"
     },
     "execution_count": 63,
     "metadata": {},
     "output_type": "execute_result"
    }
   ],
   "source": [
    "doc_store.similarity_search(questions[0])"
   ]
  },
  {
   "cell_type": "code",
   "execution_count": 64,
   "metadata": {
    "ExecuteTime": {
     "end_time": "2023-02-21T13:16:21.548718Z",
     "start_time": "2023-02-21T13:16:21.530908Z"
    }
   },
   "outputs": [],
   "source": [
    "from langchain.llms import OpenAI\n",
    "from langchain.chains import VectorDBQA"
   ]
  },
  {
   "cell_type": "code",
   "execution_count": 65,
   "metadata": {
    "ExecuteTime": {
     "end_time": "2023-02-21T13:16:21.559035Z",
     "start_time": "2023-02-21T13:16:21.550064Z"
    },
    "slideshow": {
     "slide_type": "fragment"
    }
   },
   "outputs": [],
   "source": [
    "llm = OpenAI() # OpenAI API key is read from env variables"
   ]
  },
  {
   "cell_type": "code",
   "execution_count": 66,
   "metadata": {
    "ExecuteTime": {
     "end_time": "2023-02-21T13:16:21.565144Z",
     "start_time": "2023-02-21T13:16:21.561393Z"
    },
    "slideshow": {
     "slide_type": "fragment"
    }
   },
   "outputs": [],
   "source": [
    "qa = VectorDBQA.from_chain_type(\n",
    "    llm=llm, \n",
    "    chain_type=\"stuff\", \n",
    "    vectorstore=doc_store,\n",
    "    return_source_documents=False,\n",
    ")"
   ]
  },
  {
   "cell_type": "code",
   "execution_count": 68,
   "metadata": {
    "ExecuteTime": {
     "end_time": "2023-02-21T13:16:21.570459Z",
     "start_time": "2023-02-21T13:16:21.567088Z"
    },
    "slideshow": {
     "slide_type": "fragment"
    }
   },
   "outputs": [],
   "source": [
    "import random\n",
    "\n",
    "random.seed(42)\n",
    "selected_questions = random.choices(questions, k=5)"
   ]
  },
  {
   "cell_type": "code",
   "execution_count": 69,
   "metadata": {
    "ExecuteTime": {
     "end_time": "2023-02-21T13:23:14.715454Z",
     "start_time": "2023-02-21T13:20:12.045303Z"
    },
    "slideshow": {
     "slide_type": "subslide"
    }
   },
   "outputs": [
    {
     "name": "stdout",
     "output_type": "stream",
     "text": [
      "> What do you do to minimize my costs?\n",
      " Use strategic management, charge no commissions or hidden fees, disclose everything, and minimize taxes.\n",
      "\n",
      "> What is your minimum asset requirement?\n",
      " My minimum asset requirement is $5 million or more.\n",
      "\n",
      "> How long do your clients stay with you on average?\n",
      " At least 10 years.\n",
      "\n",
      "> How long have you been a wealth manager?\n",
      " I don't know.\n",
      "\n",
      "> What do you do to minimize my costs?\n",
      " Use strategic management, charge no commissions or hidden fees, disclose everything, and minimize taxes.\n",
      "\n"
     ]
    }
   ],
   "source": [
    "for question in selected_questions:\n",
    "    print(\">\", question)\n",
    "    print(qa.run(question), end=\"\\n\\n\")"
   ]
  },
  {
   "cell_type": "code",
   "execution_count": 70,
   "metadata": {
    "ExecuteTime": {
     "end_time": "2023-02-21T14:00:21.069762Z",
     "start_time": "2023-02-21T14:00:21.064613Z"
    },
    "slideshow": {
     "slide_type": "fragment"
    }
   },
   "outputs": [],
   "source": [
    "from langchain.chains import ChatVectorDBChain"
   ]
  },
  {
   "cell_type": "code",
   "execution_count": 71,
   "metadata": {
    "ExecuteTime": {
     "end_time": "2023-02-21T14:00:21.254578Z",
     "start_time": "2023-02-21T14:00:21.249848Z"
    },
    "slideshow": {
     "slide_type": "fragment"
    }
   },
   "outputs": [],
   "source": [
    "chat_qa = ChatVectorDBChain.from_llm(\n",
    "    llm=llm,\n",
    "    vectorstore=doc_store,\n",
    ")"
   ]
  },
  {
   "cell_type": "code",
   "execution_count": 72,
   "metadata": {
    "ExecuteTime": {
     "end_time": "2023-02-21T14:12:35.337521Z",
     "start_time": "2023-02-21T14:00:31.218954Z"
    },
    "slideshow": {
     "slide_type": "subslide"
    }
   },
   "outputs": [
    {
     "name": "stdout",
     "output_type": "stream",
     "text": [
      " You can use strategic management, charge no commissions or hidden fees, disclose everything, and minimize taxes.\n",
      "\n"
     ]
    }
   ],
   "source": [
    "chat_history = []\n",
    "while True:\n",
    "    query = input(\"> Question: \").strip()\n",
    "    if len(query) == 0:\n",
    "        break\n",
    "    result = chat_qa({\"question\": query, \"chat_history\": chat_history})\n",
    "    chat_history.append((query, result[\"answer\"]))\n",
    "    print(result[\"answer\"], end=\"\\n\\n\")"
   ]
  },
  {
   "cell_type": "code",
   "execution_count": null,
   "metadata": {
    "slideshow": {
     "slide_type": "-"
    }
   },
   "outputs": [],
   "source": []
  }
 ],
 "metadata": {
  "celltoolbar": "Slideshow",
  "kernelspec": {
   "display_name": "Python 3 (ipykernel)",
   "language": "python",
   "name": "python3"
  },
  "language_info": {
   "codemirror_mode": {
    "name": "ipython",
    "version": 3
   },
   "file_extension": ".py",
   "mimetype": "text/x-python",
   "name": "python",
   "nbconvert_exporter": "python",
   "pygments_lexer": "ipython3",
   "version": "3.9.16"
  }
 },
 "nbformat": 4,
 "nbformat_minor": 1
}
