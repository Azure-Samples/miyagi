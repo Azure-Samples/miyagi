{
 "cells": [
  {
   "attachments": {},
   "cell_type": "markdown",
   "metadata": {},
   "source": [
    "# Getting Started with Miyagi's Retrieval Augmented Generation (RaG) Workflow using Azure Cognitive Search (ACS) and Semantic Kernel\n",
    "\n",
    "To quickly get started, follow these steps:\n",
    "\n",
    "1. Ensure the [Polyglot notebooks extension](https://marketplace.visualstudio.com/items?itemName=ms-dotnettools.dotnet-interactive-vscode) is installed.\n",
    "2. [Create a new Azure OpenAI service (or use an existing OpenAI service)](https://learn.microsoft.com/en-us/azure/ai-services/openai/chatgpt-quickstart?tabs=command-line&pivots=programming-language-studio#prerequisites).\n",
    "3. [Deploy the `gpt-35-turbo` and `text-embeddings-ada-002` models](https://learn.microsoft.com/en-us/azure/ai-services/openai/concepts/models#working-with-models).\n",
    "4. [Create an Azure Cognitive Search instance and enable the Semantic Search capability](https://learn.microsoft.com/en-us/azure/search/semantic-search-overview#enable-semantic-search).\n",
    "5. Copy the `.env.example` file from the `rag` folder to `dotnet/.env` and paste the corresponding values from the resources you provisioned in the earlier steps.\n",
    "6. Run each cell in a sequence.\n",
    "\n",
    "> You will need an [.Net 7 SDK](https://dotnet.microsoft.com/en-us/download) and [Polyglot](https://marketplace.visualstudio.com/items?itemName=ms-dotnettools.dotnet-interactive-vscode) to get started with this notebook using .Net Interactive"
   ]
  },
  {
   "cell_type": "markdown",
   "metadata": {},
   "source": [
    "## Overview\n",
    "In this notebook, we will show you how to quickly get started with Miyagi's Retrieval Augmented Generation (RaG) workflow using Semantic Kernel, Azure Cognitive Search (ACS) and Cosmos. Through this use case, involving stock recommendations, you will understand the basics of RaG and the capabilities of Semantic Kernel, Azure Cognitive Search and Cosmos to adapt to your specific use case."
   ]
  },
  {
   "cell_type": "markdown",
   "metadata": {},
   "source": [
    "## Load settings from .env file"
   ]
  },
  {
   "cell_type": "code",
   "execution_count": 11,
   "metadata": {
    "dotnet_interactive": {
     "language": "csharp"
    },
    "polyglot_notebook": {
     "kernelName": "csharp"
    }
   },
   "outputs": [],
   "source": [
    "#r \"nuget: dotenv.net\"\n",
    "dotenv.net.DotEnv.Load();\n",
    "var env = dotenv.net.DotEnv.Read();"
   ]
  },
  {
   "cell_type": "markdown",
   "metadata": {},
   "source": [
    "## Prepare the kernel with memory using Azure Cognitive Search"
   ]
  },
  {
   "cell_type": "markdown",
   "metadata": {},
   "source": [
    "We first add the nuget packages (dependecies) required to instantiate the kernel. "
   ]
  },
  {
   "cell_type": "code",
   "execution_count": 9,
   "metadata": {
    "dotnet_interactive": {
     "language": "csharp"
    },
    "polyglot_notebook": {
     "kernelName": "csharp"
    }
   },
   "outputs": [
    {
     "data": {
      "text/html": [
       "<div><div></div><div></div><div><strong>Installed Packages</strong><ul><li><span>Microsoft.SemanticKernel, 1.0.1</span></li><li><span>Microsoft.SemanticKernel.Connectors.AzureAISearch, 1.0.1-alpha</span></li><li><span>Microsoft.SemanticKernel.Plugins.Core, 1.0.1-alpha</span></li><li><span>Microsoft.SemanticKernel.Plugins.Memory, 1.0.1-alpha</span></li><li><span>Microsoft.SemanticKernel.Plugins.OpenApi, 1.0.1-alpha</span></li><li><span>Microsoft.SemanticKernel.PromptTemplates.Handlebars, 1.0.1</span></li><li><span>Microsoft.SemanticKernel.Yaml, 1.0.1</span></li></ul></div></div>"
      ]
     },
     "metadata": {},
     "output_type": "display_data"
    }
   ],
   "source": [
    "#r \"nuget: Microsoft.SemanticKernel, 1.0.1\"\n",
    "#r \"nuget: Microsoft.SemanticKernel.Connectors.AzureAISearch, 1.0.1-alpha\"\n",
    "#r \"nuget: Microsoft.SemanticKernel.Plugins.OpenApi, 1.0.1-alpha\"\n",
    "#r \"nuget: Microsoft.SemanticKernel.Plugins.Memory, 1.0.1-alpha\"\n",
    "#r \"nuget: Microsoft.SemanticKernel.Plugins.Core, 1.0.1-alpha\"\n",
    "#r \"nuget: Microsoft.SemanticKernel.PromptTemplates.Handlebars, 1.0.1\"\n",
    "#r \"nuget:  Microsoft.SemanticKernel.Yaml, 1.0.1\""
   ]
  },
  {
   "cell_type": "code",
   "execution_count": 12,
   "metadata": {
    "dotnet_interactive": {
     "language": "csharp"
    },
    "polyglot_notebook": {
     "kernelName": "csharp"
    }
   },
   "outputs": [],
   "source": [
    "using Microsoft.SemanticKernel;"
   ]
  },
  {
   "cell_type": "markdown",
   "metadata": {},
   "source": [
    "With dependencies installed and configured, we create an instance of the kernel using the built-in `Kernel.Builder` class"
   ]
  },
  {
   "cell_type": "code",
   "execution_count": 13,
   "metadata": {
    "dotnet_interactive": {
     "language": "csharp"
    },
    "polyglot_notebook": {
     "kernelName": "csharp"
    }
   },
   "outputs": [],
   "source": [
    "var builder = Kernel.CreateBuilder();\n",
    "        builder.Services.AddAzureOpenAIChatCompletion(\n",
    "            env[\"AZURE_OPENAI_CHAT_MODEL\"],\n",
    "            env[\"AZURE_OPENAI_ENDPOINT\"],\n",
    "            env[\"AZURE_OPENAI_API_KEY\"]\n",
    "        );\n",
    "\n",
    "var kernel = builder.Build();"
   ]
  },
  {
   "cell_type": "markdown",
   "metadata": {},
   "source": [
    "To make the kernel stateful, we will use Memory Plugin with a Azure Cognitive Search and Embedding backend. "
   ]
  },
  {
   "cell_type": "code",
   "execution_count": 14,
   "metadata": {
    "dotnet_interactive": {
     "language": "csharp"
    },
    "polyglot_notebook": {
     "kernelName": "csharp"
    }
   },
   "outputs": [],
   "source": [
    "using Microsoft.SemanticKernel.Connectors.AzureAISearch;\n",
    "using Microsoft.SemanticKernel.Connectors.OpenAI;\n",
    "using Microsoft.SemanticKernel.Memory;\n",
    "using Microsoft.SemanticKernel.Plugins.Core;\n",
    "  \n",
    "#pragma warning disable SKEXP0003\n",
    "#pragma warning disable SKEXP0011\n",
    "#pragma warning disable SKEXP0021\n",
    "\n",
    "IMemoryStore store = new AzureAISearchMemoryStore(\n",
    "    env[\"AZURE_COGNITIVE_SEARCH_ENDPOINT\"],\n",
    "    env[\"AZURE_COGNITIVE_SEARCH_API_KEY\"]);\n",
    "            \n",
    "// Create an embedding generator to use for semantic memory.\n",
    "var embeddingGenerator = new AzureOpenAITextEmbeddingGenerationService(\n",
    "    env[\"AZURE_OPENAI_EMBEDDING_MODEL\"],\n",
    "    env[\"AZURE_OPENAI_ENDPOINT\"],\n",
    "    env[\"AZURE_OPENAI_API_KEY\"],\n",
    "    env[\"AZURE_OPENAI_EMBEDDING_MODEL\"]);\n",
    "\n",
    "SemanticTextMemory textMemory = new(store, embeddingGenerator);"
   ]
  },
  {
   "cell_type": "markdown",
   "metadata": {},
   "source": [
    "## Vectorize and persist embeddings in Azure Cognitive Search with Semantic Kernel"
   ]
  },
  {
   "cell_type": "markdown",
   "metadata": {},
   "source": [
    "Embeddings are a type of data transformation that convert text into high-dimensional vectors that capture semantic relationships between words or text chunks. This vectorized form allows machines to process text in a manner akin to numerical data, enabling operations like similarity comparison which is foundational for vector databases to retrieve meaningful context for LLMs. Embeddings are essential to generate and retrieve relevant content in a RaG workflow because:\n",
    "\n",
    "1. They normalize your data in a common mathematical representation, making it machine-friendly\n",
    "1. They compress data, retaining essential representations while reducing dimensionality\n",
    "1. They preserve relationships within your data\n",
    "1. They are representationally dense, meaning they are more efficient to store and process\n",
    "\n",
    "\n",
    "> See a visual representation of the embeddings in 2D space below (from Cohere):"
   ]
  },
  {
   "cell_type": "markdown",
   "metadata": {},
   "source": [
    "![Semantic Search](https://txt.cohere.com/content/images/2023/01/Vis-7-2.jpg)"
   ]
  },
  {
   "cell_type": "markdown",
   "metadata": {},
   "source": [
    "Now, let’s delve into the process of creating and utilizing embeddings in the context of ACS.\n",
    "\n",
    "In this scenario, we have a snippet of proprietary text data—extracted from a book—which needs to be processed and indexed for semantic search. The steps involve:\n",
    "\n",
    "1. Chunking the Text: Breaking down the text into manageable pieces, referred to as 'chunks'.\n",
    "1. Generating Embeddings: Transforming these chunks into high-dimensional vectors using an Azure Text Embedding Generation Service.\n",
    "1. Persisting Embeddings to ACS: Storing these embeddings in Azure Cognitive Search to facilitate semantic search.\n",
    "\n",
    "The provided code snippet orchestrates these steps. It reads the text data from a local file, chunks it, generates embeddings for each chunk, and then persists these embeddings to ACS. The specific operations are abstracted for simplicity using methods like SaveInformationAsync, which is part of a hypothetical kernel object in this code. The end result is a collection of indexed embeddings in ACS that significantly enhance search quality by moving beyond mere keyword matching to understanding semantic relationships."
   ]
  },
  {
   "cell_type": "code",
   "execution_count": 15,
   "metadata": {
    "dotnet_interactive": {
     "language": "csharp"
    },
    "polyglot_notebook": {
     "kernelName": "csharp"
    }
   },
   "outputs": [
    {
     "name": "stdout",
     "output_type": "stream",
     "text": [
      "Saved 24 chunks to memory collection miyagi-investment-thesis\r\n"
     ]
    }
   ],
   "source": [
    "using Microsoft.SemanticKernel.Text;\n",
    "using System.IO;\n",
    "\n",
    "#pragma warning disable SKEXP0055\n",
    "\n",
    "var dataset = \"intelligent-investor.txt\";\n",
    "var recommendationServicePath = \"../../../../services/recommendation-service/dotnet\";\n",
    "const int MaxTokensPerParagraph = 300;\n",
    "const int MaxTokensPerLine = 100;\n",
    "\n",
    "// Load text data from a local file\n",
    "var filePath = Path.Combine(recommendationServicePath, \"resources\", \"sample-datasets\", dataset);\n",
    "var streamReader = new StreamReader(filePath);\n",
    "var text = await streamReader.ReadToEndAsync();\n",
    "\n",
    "// Define a memory collection name for indexing\n",
    "var memoryCollectionName = \"miyagi-investment-thesis\";\n",
    "\n",
    "// Chunk the text into lines and paragraphs for manageable processing\n",
    "var lines = TextChunker.SplitPlainTextLines(text, MaxTokensPerLine);\n",
    "var chunks = TextChunker.SplitPlainTextParagraphs(lines, MaxTokensPerParagraph);\n",
    "\n",
    "// Loop through each chunk to generate embeddings and persist to ACS\n",
    "for (var i = 0; i < chunks.Count; i++)\n",
    "{\n",
    "    var chunk = chunks[i];\n",
    "    // Generate an identifier for each chunk\n",
    "    await textMemory.SaveInformationAsync(\n",
    "        memoryCollectionName,\n",
    "        chunk,\n",
    "        $\"{dataset}-{i}\",\n",
    "        $\"Dataset: {dataset} Chunk: {i}\",\n",
    "        i.ToString());\n",
    "}\n",
    "\n",
    "// Output the result to console\n",
    "System.Console.WriteLine($\"Saved {chunks.Count} chunks to memory collection {memoryCollectionName}\");\n"
   ]
  },
  {
   "cell_type": "markdown",
   "metadata": {},
   "source": [
    "## Search and retrieve documents using Semantic Kernel"
   ]
  },
  {
   "cell_type": "markdown",
   "metadata": {},
   "source": [
    "To search and retrieve documents, we will use the `SearchAsync` method of Semantic memory that encapsulates retrieval abstractions of different memory providers. This method takes in a query and returns a list of documents that are relevant to the query."
   ]
  },
  {
   "cell_type": "code",
   "execution_count": 16,
   "metadata": {
    "dotnet_interactive": {
     "language": "csharp"
    },
    "polyglot_notebook": {
     "kernelName": "csharp"
    }
   },
   "outputs": [
    {
     "name": "stdout",
     "output_type": "stream",
     "text": [
      "   Similarly, a defensive investor who has made a value-based investment based on sound business fundamentals will ignore the stock market valuation apart from taking advantage of its swings. Graham goes so far as to say that the single biggest reason investors fail is that they pay too much attention to what the stock market is currently doing.\n",
      "Intelligent investors should be comfortable holding their stocks even if they don't see the daily stock market prices for years. Experiments have shown that investors who received frequent news updates about their stocks earned half the returns of investors who received no information at all.\n",
      "resource image\n",
      "[widget]\n",
      "A defensive investor's stock portfolio\n",
      "Asset allocation\n",
      "Graham suggests a mechanical 50-50 split between stocks and bonds for defensive investors to guard against over-purchasing shares in a bull market and rushing into bonds in a bear market. The only action they should take is to rebalance their portfolio every six months if market developments alter this 50-50 ratio by over 5%.\n",
      "   Relevance: 0.857623699647337\n",
      "\n",
      "   SYNOPSIS\n",
      "This book will not teach you how to beat the market. However, it will teach you how to reduce risk, protect your capital from loss and reliably generate sustainable returns over the long run. Warren Buffett calls the Intelligent Investor \"\"by far the best book on investing ever written.\"\"\n",
      "Benjamin's proven value investing approach replaces risky attempts to project future share prices with sound investments based on the underlying value of the company's tangible assets.\n",
      "The Intelligent Investor by Benjamin Graham gives you everything you need to equip yourself with the investor's mindset necessary to avoid the panic of market fluctuations that plague the ordinary investor. Don't be ordinary. Be intelligent.\n",
      "\n",
      "TOP 20 INSIGHTS\n",
      "There are two kinds of investors. Defensive investors aim to protect their capital from losses, generate decent returns and minimize frequent decisions. Enterprising investors devote most of their time to manage their portfolios actively. An enterprising investor does not take more risks than a defensive investor but invests more in stock selection.\n",
      "   Relevance: 0.8501124314069068\n",
      "\n"
     ]
    }
   ],
   "source": [
    " var query = \"Ben Graham's investment philosophy\";\n",
    " \n",
    " await foreach (var result in textMemory.SearchAsync(\n",
    "            collection: memoryCollectionName,\n",
    "            query: query,\n",
    "            limit: 2,\n",
    "            minRelevanceScore: 0.79,\n",
    "            withEmbeddings: true))\n",
    "        {\n",
    "            Console.WriteLine(\"   \" + result.Metadata.Text);\n",
    "            Console.WriteLine(\"   Relevance: \" + result.Relevance + \"\\n\");\n",
    "        }"
   ]
  },
  {
   "cell_type": "markdown",
   "metadata": {},
   "source": [
    "## Grounding with Native Functions and SK's Memory \"recall\"\n",
    "\n",
    "> Note that this prompt template (semantic function) is located under services/reccommendation-service/dotnet/plugins/AdvisorPlugin"
   ]
  },
  {
   "cell_type": "code",
   "execution_count": 17,
   "metadata": {
    "dotnet_interactive": {
     "language": "csharp"
    },
    "polyglot_notebook": {
     "kernelName": "csharp"
    }
   },
   "outputs": [],
   "source": [
    "using System.IO;\n",
    "using Microsoft.SemanticKernel;\n",
    "using Microsoft.SemanticKernel.PromptTemplates.Handlebars;\n",
    "\n",
    "var pluginFolder = $\"{recommendationServicePath}/Resources/Prompts\";\n",
    "\n",
    "// Construct the full file path\n",
    "var filePath = Path.Combine(pluginFolder, \"InvestmentAdvise.prompt.yaml\");\n",
    "\n",
    "KernelFunction advisorPlugin;\n",
    "\n",
    "// Use StreamReader to read the file\n",
    "using (StreamReader reader = new StreamReader(filePath))\n",
    "{\n",
    "    // Create the function from the YAML file using Handlebars template\n",
    "    advisorPlugin = kernel.CreateFunctionFromPromptYaml(\n",
    "        reader.ReadToEnd(),\n",
    "        promptTemplateFactory: new HandlebarsPromptTemplateFactory()\n",
    "    );\n",
    "}"
   ]
  },
  {
   "cell_type": "code",
   "execution_count": 18,
   "metadata": {
    "dotnet_interactive": {
     "language": "csharp"
    },
    "polyglot_notebook": {
     "kernelName": "csharp"
    }
   },
   "outputs": [],
   "source": [
    "using Microsoft.SemanticKernel.Plugins.Memory;\n",
    "\n",
    "#pragma warning disable SKEXP0052\n",
    "\n",
    "// recall is from the TextMemoryPlugin, which has a recall method that can be invoked from Semantic Function to perform retrieval\n",
    "KernelPlugin memoryPlugin = kernel.ImportPluginFromObject(new TextMemoryPlugin(textMemory));"
   ]
  },
  {
   "cell_type": "markdown",
   "metadata": {},
   "source": [
    "### Set Kernel Arguments (context variables)"
   ]
  },
  {
   "cell_type": "code",
   "execution_count": 19,
   "metadata": {
    "dotnet_interactive": {
     "language": "csharp"
    },
    "polyglot_notebook": {
     "kernelName": "csharp"
    }
   },
   "outputs": [
    {
     "name": "stdout",
     "output_type": "stream",
     "text": [
      "Memories: [\"Part-time investors should stick to defensive investment strategies. Defensive investors can achieve a decent result with minimum effort and capability. However, even a marginal improvement from this result is challenging and requires extraordinary knowledge and skill. An attempt to outsmart the market by spending a little extra time and effort will primarily result in below-average gains.\\r\\nConfusing speculation with investment can be a costly mistake. Speculators buy hot stocks based on future growth prospects. In contrast, investment is made on a thorough analysis of the underlying business to ensure the safety of principal and adequate \\u2014 but not extraordinary \\u2014 gain. Invest in a stock only when you can comfortably own it without following its daily share price.\\r\\nIf you cannot resist the urge to bet on the next big growth stock, set strict limits on speculation. Keep a separate speculative account with less than 10% of your capital for speculative activities. Never mix money from the investment account and speculation account.\",\"Enterprising investors\\u0027 confidence in their professional analysis may reduce their stock component to 25% when the markets are dangerously high and raise their stock component to 75% at the bottom of a bear market. However, a minimum of 25% in bonds is essential as it will give investors the cushion to hold on to stocks even through the worst bear markets.\\r\\nPurchase only tax-free municipal bonds unless you fall in the lowest tax bracket. Choose bonds that mature in five to 10 years as they remain relatively stable with interest rate fluctuations. Bond funds are an excellent choice for individual investors as they offer cheap and easy diversification to minimize risk.\\r\\nBoth Graham and Warren Buffet recommend index funds as the best long-term bet for defensive investors. Index funds own a cross-section of the entire market without any stock selection. While they may be unglamorous and show steady returns compared to more aggressive funds, index funds have low risk and have historically outperformed most mutual funds over 20 year periods.\"]\n",
      "\n"
     ]
    },
    {
     "data": {
      "text/html": [
       "<table><thead><tr><th><i>key</i></th><th><i>type</i></th><th>value</th></tr></thead><tbody><tr><td><div class=\"dni-plaintext\"><pre>userId</pre></div></td><td><span><a href=\"https://docs.microsoft.com/dotnet/api/system.string?view=net-7.0\">System.String</a></span></td><td><div class=\"dni-plaintext\"><pre>50</pre></div></td></tr><tr><td><div class=\"dni-plaintext\"><pre>stocks</pre></div></td><td><span><a href=\"https://docs.microsoft.com/dotnet/api/system.string?view=net-7.0\">System.String</a></span></td><td><div class=\"dni-plaintext\"><pre>[{&quot;symbol&quot;:&quot;MSFT&quot;,&quot;allocation&quot;:0.3},{&quot;symbol&quot;:&quot;ACN&quot;,&quot;allocation&quot;:0.1},{&quot;symbol&quot;:&quot;JPM&quot;,&quot;allocation&quot;:0.3},{&quot;symbol&quot;:&quot;PEP&quot;,&quot;allocation&quot;:0.3}]</pre></div></td></tr><tr><td><div class=\"dni-plaintext\"><pre>risk</pre></div></td><td><span><a href=\"https://docs.microsoft.com/dotnet/api/system.string?view=net-7.0\">System.String</a></span></td><td><div class=\"dni-plaintext\"><pre>aggressive</pre></div></td></tr><tr><td><div class=\"dni-plaintext\"><pre>fewShotExamples</pre></div></td><td><span><a href=\"https://docs.microsoft.com/dotnet/api/system.collections.generic.list-1?view=net-7.0\">System.Collections.Generic.List&lt;Microsoft.SemanticKernel.ChatCompletion.ChatHistory&gt;</a></span></td><td><table><thead><tr><th><i>index</i></th><th>value</th></tr></thead><tbody><tr><td>0</td><td><details class=\"dni-treeview\"><summary><span class=\"dni-code-hint\"><code>[ {&quot;stocks&quot;:[{&quot;symbol&quot;:&quot;MSFT&quot;,&quot;allocation&quot;:0.6},{&quot;symbol&quot;:&quot;ACN&quot;,&quot;allocation&quot;:0.4}]}, {&quot;portfolio&quot;:[{&quot;symbol&quot;:&quot;MSFT&quot;,&quot;gptRecommendation&quot;:&quot;Booyah! Hold on, steady growth! Diversify, though!&quot;},{&quot;symbol&quot;:&quot;ACN&quot;,&quot;gptRecommendation&quot;:&quot;Buy! Services will see a boom!&quot;}]} ]</code></span></summary><div><table><thead><tr></tr></thead><tbody><tr><td>Count</td><td><div class=\"dni-plaintext\"><pre>2</pre></div></td></tr><tr><td><i>(values)</i></td><td><table><thead><tr><th><i>index</i></th><th>value</th></tr></thead><tbody><tr><td>0</td><td><details class=\"dni-treeview\"><summary><span class=\"dni-code-hint\"><code>{&quot;stocks&quot;:[{&quot;symbol&quot;:&quot;MSFT&quot;,&quot;allocation&quot;:0.6},{&quot;symbol&quot;:&quot;ACN&quot;,&quot;allocation&quot;:0.4}]}</code></span></summary><div><table><thead><tr></tr></thead><tbody><tr><td>Role</td><td><details class=\"dni-treeview\"><summary><span class=\"dni-code-hint\"><code>user</code></span></summary><div><table><thead><tr></tr></thead><tbody><tr><td>Label</td><td><div class=\"dni-plaintext\"><pre>user</pre></div></td></tr></tbody></table></div></details></td></tr><tr><td>Content</td><td><div class=\"dni-plaintext\"><pre>{&quot;stocks&quot;:[{&quot;symbol&quot;:&quot;MSFT&quot;,&quot;allocation&quot;:0.6},{&quot;symbol&quot;:&quot;ACN&quot;,&quot;allocation&quot;:0.4}]}</pre></div></td></tr><tr><td>Items</td><td><div class=\"dni-plaintext\"><pre>&lt;null&gt;</pre></div></td></tr><tr><td>Encoding</td><td><details class=\"dni-treeview\"><summary><span class=\"dni-code-hint\"><code>System.Text.UTF8Encoding+UTF8EncodingSealed</code></span></summary><div><table><thead><tr></tr></thead><tbody><tr><td>Preamble</td><td><div class=\"dni-plaintext\"><pre>System.Text.UTF8Encoding+UTF8EncodingSealed</pre></div></td></tr><tr><td>BodyName</td><td><div class=\"dni-plaintext\"><pre>utf-8</pre></div></td></tr><tr><td>EncodingName</td><td><div class=\"dni-plaintext\"><pre>Unicode (UTF-8)</pre></div></td></tr><tr><td>HeaderName</td><td><div class=\"dni-plaintext\"><pre>utf-8</pre></div></td></tr><tr><td>WebName</td><td><div class=\"dni-plaintext\"><pre>utf-8</pre></div></td></tr><tr><td>WindowsCodePage</td><td><div class=\"dni-plaintext\"><pre>1200</pre></div></td></tr><tr><td>IsBrowserDisplay</td><td><div class=\"dni-plaintext\"><pre>True</pre></div></td></tr><tr><td>IsBrowserSave</td><td><div class=\"dni-plaintext\"><pre>True</pre></div></td></tr><tr><td>IsMailNewsDisplay</td><td><div class=\"dni-plaintext\"><pre>True</pre></div></td></tr><tr><td>IsMailNewsSave</td><td><div class=\"dni-plaintext\"><pre>True</pre></div></td></tr><tr><td>IsSingleByte</td><td><div class=\"dni-plaintext\"><pre>False</pre></div></td></tr><tr><td>EncoderFallback</td><td><details class=\"dni-treeview\"><summary><span class=\"dni-code-hint\"><code>System.Text.EncoderReplacementFallback</code></span></summary><div><table><thead><tr></tr></thead><tbody><tr><td>DefaultString</td><td>�</td></tr><tr><td>MaxCharCount</td><td>1</td></tr></tbody></table></div></details></td></tr><tr><td>DecoderFallback</td><td><details class=\"dni-treeview\"><summary><span class=\"dni-code-hint\"><code>System.Text.DecoderReplacementFallback</code></span></summary><div><table><thead><tr></tr></thead><tbody><tr><td>DefaultString</td><td>�</td></tr><tr><td>MaxCharCount</td><td>1</td></tr></tbody></table></div></details></td></tr><tr><td>IsReadOnly</td><td><div class=\"dni-plaintext\"><pre>True</pre></div></td></tr><tr><td>CodePage</td><td><div class=\"dni-plaintext\"><pre>65001</pre></div></td></tr></tbody></table></div></details></td></tr><tr><td>InnerContent</td><td><div class=\"dni-plaintext\"><pre>&lt;null&gt;</pre></div></td></tr><tr><td>ModelId</td><td><div class=\"dni-plaintext\"><pre>&lt;null&gt;</pre></div></td></tr><tr><td>Metadata</td><td><div class=\"dni-plaintext\"><pre>&lt;null&gt;</pre></div></td></tr></tbody></table></div></details></td></tr><tr><td>1</td><td><details class=\"dni-treeview\"><summary><span class=\"dni-code-hint\"><code>{&quot;portfolio&quot;:[{&quot;symbol&quot;:&quot;MSFT&quot;,&quot;gptRecommendation&quot;:&quot;Booyah! Hold on, steady growth! Diversify, though!&quot;},{&quot;symbol&quot;:&quot;ACN&quot;,&quot;gptRecommendation&quot;:&quot;Buy! Services will see a boom!&quot;}]}</code></span></summary><div><table><thead><tr></tr></thead><tbody><tr><td>Role</td><td><details class=\"dni-treeview\"><summary><span class=\"dni-code-hint\"><code>assistant</code></span></summary><div><table><thead><tr></tr></thead><tbody><tr><td>Label</td><td><div class=\"dni-plaintext\"><pre>assistant</pre></div></td></tr></tbody></table></div></details></td></tr><tr><td>Content</td><td><div class=\"dni-plaintext\"><pre>{&quot;portfolio&quot;:[{&quot;symbol&quot;:&quot;MSFT&quot;,&quot;gptRecommendation&quot;:&quot;Booyah! Hold on, steady growth! Diversify, though!&quot;},{&quot;symbol&quot;:&quot;ACN&quot;,&quot;gptRecommendation&quot;:&quot;Buy! Services will see a boom!&quot;}]}</pre></div></td></tr><tr><td>Items</td><td><div class=\"dni-plaintext\"><pre>&lt;null&gt;</pre></div></td></tr><tr><td>Encoding</td><td><details class=\"dni-treeview\"><summary><span class=\"dni-code-hint\"><code>System.Text.UTF8Encoding+UTF8EncodingSealed</code></span></summary><div><table><thead><tr></tr></thead><tbody><tr><td>Preamble</td><td><div class=\"dni-plaintext\"><pre>System.Text.UTF8Encoding+UTF8EncodingSealed</pre></div></td></tr><tr><td>BodyName</td><td><div class=\"dni-plaintext\"><pre>utf-8</pre></div></td></tr><tr><td>EncodingName</td><td><div class=\"dni-plaintext\"><pre>Unicode (UTF-8)</pre></div></td></tr><tr><td>HeaderName</td><td><div class=\"dni-plaintext\"><pre>utf-8</pre></div></td></tr><tr><td>WebName</td><td><div class=\"dni-plaintext\"><pre>utf-8</pre></div></td></tr><tr><td>WindowsCodePage</td><td><div class=\"dni-plaintext\"><pre>1200</pre></div></td></tr><tr><td>IsBrowserDisplay</td><td><div class=\"dni-plaintext\"><pre>True</pre></div></td></tr><tr><td>IsBrowserSave</td><td><div class=\"dni-plaintext\"><pre>True</pre></div></td></tr><tr><td>IsMailNewsDisplay</td><td><div class=\"dni-plaintext\"><pre>True</pre></div></td></tr><tr><td>IsMailNewsSave</td><td><div class=\"dni-plaintext\"><pre>True</pre></div></td></tr><tr><td>IsSingleByte</td><td><div class=\"dni-plaintext\"><pre>False</pre></div></td></tr><tr><td>EncoderFallback</td><td><details class=\"dni-treeview\"><summary><span class=\"dni-code-hint\"><code>System.Text.EncoderReplacementFallback</code></span></summary><div><table><thead><tr></tr></thead><tbody><tr><td>DefaultString</td><td>�</td></tr><tr><td>MaxCharCount</td><td>1</td></tr></tbody></table></div></details></td></tr><tr><td>DecoderFallback</td><td><details class=\"dni-treeview\"><summary><span class=\"dni-code-hint\"><code>System.Text.DecoderReplacementFallback</code></span></summary><div><table><thead><tr></tr></thead><tbody><tr><td>DefaultString</td><td>�</td></tr><tr><td>MaxCharCount</td><td>1</td></tr></tbody></table></div></details></td></tr><tr><td>IsReadOnly</td><td><div class=\"dni-plaintext\"><pre>True</pre></div></td></tr><tr><td>CodePage</td><td><div class=\"dni-plaintext\"><pre>65001</pre></div></td></tr></tbody></table></div></details></td></tr><tr><td>InnerContent</td><td><div class=\"dni-plaintext\"><pre>&lt;null&gt;</pre></div></td></tr><tr><td>ModelId</td><td><div class=\"dni-plaintext\"><pre>&lt;null&gt;</pre></div></td></tr><tr><td>Metadata</td><td><div class=\"dni-plaintext\"><pre>&lt;null&gt;</pre></div></td></tr></tbody></table></div></details></td></tr></tbody></table></td></tr></tbody></table></div></details></td></tr></tbody></table></td></tr><tr><td><div class=\"dni-plaintext\"><pre>voice</pre></div></td><td><span><a href=\"https://docs.microsoft.com/dotnet/api/system.string?view=net-7.0\">System.String</a></span></td><td><div class=\"dni-plaintext\"><pre>Jim Cramer</pre></div></td></tr><tr><td><div class=\"dni-plaintext\"><pre>memories</pre></div></td><td><span><a href=\"https://docs.microsoft.com/dotnet/api/system.string?view=net-7.0\">System.String</a></span></td><td><div class=\"dni-plaintext\"><pre>[&quot;Part-time investors should stick to defensive investment strategies. Defensive investors can achieve a decent result with minimum effort and capability. However, even a marginal improvement from this result is challenging and requires extraordinary knowledge and skill. An attempt to outsmart the market by spending a little extra time and effort will primarily result in below-average gains.\\r\\nConfusing speculation with investment can be a costly mistake. Speculators buy hot stocks based on future growth prospects. In contrast, investment is made on a thorough analysis of the underlying business to ensure the safety of principal and adequate \\u2014 but not extraordinary \\u2014 gain. Invest in a stock only when you can comfortably own it without following its daily share price.\\r\\nIf you cannot resist the urge to bet on the next big growth stock, set strict limits on speculation. Keep a separate speculative account with less than 10% of your capital for speculative activities. Never mix money from the investment account and speculation account.&quot;,&quot;Enterprising investors\\u0027 confidence in their professional analysis may reduce their stock component to 25% when the markets are dangerously high and raise their stock component to 75% at the bottom of a bear market. However, a minimum of 25% in bonds is essential as it will give investors the cushion to hold on to stocks even through the worst bear markets.\\r\\nPurchase only tax-free municipal bonds unless you fall in the lowest tax bracket. Choose bonds that mature in five to 10 years as they remain relatively stable with interest rate fluctuations. Bond funds are an excellent choice for individual investors as they offer cheap and easy diversification to minimize risk.\\r\\nBoth Graham and Warren Buffet recommend index funds as the best long-term bet for defensive investors. Index funds own a cross-section of the entire market without any stock selection. While they may be unglamorous and show steady returns compared to more aggressive funds, index funds have low risk and have historically outperformed most mutual funds over 20 year periods.&quot;]</pre></div></td></tr></tbody></table><style>\r\n",
       ".dni-code-hint {\r\n",
       "    font-style: italic;\r\n",
       "    overflow: hidden;\r\n",
       "    white-space: nowrap;\r\n",
       "}\r\n",
       ".dni-treeview {\r\n",
       "    white-space: nowrap;\r\n",
       "}\r\n",
       ".dni-treeview td {\r\n",
       "    vertical-align: top;\r\n",
       "    text-align: start;\r\n",
       "}\r\n",
       "details.dni-treeview {\r\n",
       "    padding-left: 1em;\r\n",
       "}\r\n",
       "table td {\r\n",
       "    text-align: start;\r\n",
       "}\r\n",
       "table tr { \r\n",
       "    vertical-align: top; \r\n",
       "    margin: 0em 0px;\r\n",
       "}\r\n",
       "table tr td pre \r\n",
       "{ \r\n",
       "    vertical-align: top !important; \r\n",
       "    margin: 0em 0px !important;\r\n",
       "} \r\n",
       "table th {\r\n",
       "    text-align: start;\r\n",
       "}\r\n",
       "</style>"
      ]
     },
     "metadata": {},
     "output_type": "display_data"
    }
   ],
   "source": [
    "using System.Text.Json;\n",
    "using Microsoft.SemanticKernel.ChatCompletion;\n",
    "\n",
    "#pragma warning disable SKEXP0052\n",
    "\n",
    "// Create few-shot examples\n",
    "List<ChatHistory> fewShotExamples = [\n",
    "    [\n",
    "        new ChatMessageContent(AuthorRole.User, @\"{\"\"stocks\"\":[{\"\"symbol\"\":\"\"MSFT\"\",\"\"allocation\"\":0.6},{\"\"symbol\"\":\"\"ACN\"\",\"\"allocation\"\":0.4}]}\"),\n",
    "        new ChatMessageContent(AuthorRole.Assistant, @\"{\"\"portfolio\"\":[{\"\"symbol\"\":\"\"MSFT\"\",\"\"gptRecommendation\"\":\"\"Booyah! Hold on, steady growth! Diversify, though!\"\"},{\"\"symbol\"\":\"\"ACN\"\",\"\"gptRecommendation\"\":\"\"Buy! Services will see a boom!\"\"}]}\")\n",
    "    ]\n",
    "];\n",
    "\n",
    "/*\n",
    "    * Resolve issue with Handlebars ProcessPositionalArguments issue with parameter parsing for TextMemoryPlugin-recall\n",
    "    * In prompt template for handlebars, the following is not working:\n",
    "    * {{TextMemoryPlugin-recall semanticQuery, miyagi-embeddings, 0.8, 3}}\n",
    "    *\n",
    "    * Meanwhile, use this alternative approach\n",
    "*/\n",
    "var memories = await kernel.InvokeAsync(memoryPlugin[\"Recall\"], new()\n",
    "{\n",
    "    [TextMemoryPlugin.InputParam] = $\"Investment advise for aggressive risk level\",\n",
    "    [TextMemoryPlugin.CollectionParam] = \"miyagi-investment-thesis\",\n",
    "    [TextMemoryPlugin.LimitParam] = \"2\",\n",
    "    [TextMemoryPlugin.RelevanceParam] = \"0.8\",\n",
    "});\n",
    "\n",
    "Console.WriteLine($\"Memories: {memories.GetValue<string>()}\");\n",
    "Console.WriteLine();\n",
    "\n",
    "// Set harcoded parameters for the AdvisorPlugin\n",
    "var stocks = new[] {\n",
    "    new {symbol = \"MSFT\", allocation = 0.3},\n",
    "    new {symbol = \"ACN\", allocation = 0.1},\n",
    "    new {symbol = \"JPM\", allocation = 0.3},\n",
    "    new {symbol = \"PEP\", allocation = 0.3}\n",
    "};\n",
    "\n",
    "var arguments = new KernelArguments\n",
    "{\n",
    "    [\"userId\"] = \"50\",\n",
    "    [\"stocks\"] = JsonSerializer.Serialize(stocks),\n",
    "    [\"risk\"] = \"aggressive\",\n",
    "    [\"fewShotExamples\"] = fewShotExamples,\n",
    "    [\"voice\"] = \"Jim Cramer\",\n",
    "    [\"memories\"] = memories.GetValue<string>()\n",
    "};\n",
    "arguments"
   ]
  },
  {
   "cell_type": "markdown",
   "metadata": {},
   "source": [
    "### Create native function"
   ]
  },
  {
   "cell_type": "code",
   "execution_count": 20,
   "metadata": {
    "dotnet_interactive": {
     "language": "csharp"
    },
    "polyglot_notebook": {
     "kernelName": "csharp"
    }
   },
   "outputs": [],
   "source": [
    "// Copyright (c) Microsoft. All rights reserved.\n",
    "\n",
    "using System.ComponentModel;\n",
    "using Microsoft.SemanticKernel;\n",
    "\n",
    "\n",
    "/// <summary>\n",
    "///     UserProfilePlugin shows a native skill example to look user info given userId.\n",
    "/// </summary>\n",
    "/// <example>\n",
    "///     Usage: kernel.ImportSkill(\"UserProfilePlugin\", new UserProfilePlugin());\n",
    "///     Examples:\n",
    "///     SKContext[\"userId\"] = \"000\"\n",
    "///     {{UserProfilePlugin.GetUserAge $userId }} => {userProfile}\n",
    "/// </example>\n",
    "public class UserProfilePlugin\n",
    "{\n",
    "    /// <summary>\n",
    "    ///     Name of the context variable used for UserId.\n",
    "    /// </summary>\n",
    "    public const string UserId = \"UserId\";\n",
    "\n",
    "    private const string DefaultUserId = \"40\";\n",
    "    private const int DefaultAnnualHouseholdIncome = 150000;\n",
    "    private const int Normalize = 81;\n",
    "\n",
    "    /// <summary>\n",
    "    ///     Lookup User's age for a given UserId.\n",
    "    /// </summary>\n",
    "    /// <example>\n",
    "    ///     SKContext[UserProfilePlugin.UserId] = \"000\"\n",
    "    /// </example>\n",
    "    [KernelFunction, Description(\"Given a userId, get user age\")]\n",
    "    public string GetUserAge(\n",
    "        [Description(\"Unique identifier of a user\")]\n",
    "        string userId)\n",
    "    {\n",
    "        // userId = context.Variables.ContainsKey(UserId) ? context[UserId] : DefaultUserId;\n",
    "        userId = string.IsNullOrEmpty(userId) ? DefaultUserId : userId;\n",
    "        \n",
    "        int age;\n",
    "\n",
    "        if (int.TryParse(userId, out var parsedUserId))\n",
    "            age = parsedUserId > 100 ? parsedUserId % Normalize : parsedUserId;\n",
    "        else\n",
    "            age = int.Parse(DefaultUserId);\n",
    "\n",
    "        // invoke a service to get the age of the user, given the userId\n",
    "        return age.ToString();\n",
    "    }\n",
    "\n",
    "    /// <summary>\n",
    "    ///     Lookup User's annual income given UserId.\n",
    "    /// </summary>\n",
    "    /// <example>\n",
    "    ///     SKContext[UserProfilePlugin.UserId] = \"000\"\n",
    "    /// </example>\n",
    "    [KernelFunction, Description(\"Given a userId, get user annual household income\")]\n",
    "    public string GetAnnualHouseholdIncome(\n",
    "        [Description(\"Unique identifier of a user\")]\n",
    "        string userId)\n",
    "    {\n",
    "        \n",
    "        // userId = context.Variables.ContainsKey(UserId) ? context[UserId] : DefaultUserId;\n",
    "        userId = string.IsNullOrEmpty(userId) ? DefaultUserId : userId;\n",
    "\n",
    "        var random = new Random();\n",
    "        var randomMultiplier = random.Next(1000, 8000);\n",
    "\n",
    "        // invoke a service to get the annual household income of the user, given the userId\n",
    "        var annualHouseholdIncome = int.TryParse(userId, out var parsedUserId)\n",
    "            ? parsedUserId * randomMultiplier\n",
    "            : DefaultAnnualHouseholdIncome;\n",
    "\n",
    "        return annualHouseholdIncome.ToString();\n",
    "    }\n",
    "}"
   ]
  },
  {
   "cell_type": "code",
   "execution_count": 21,
   "metadata": {
    "dotnet_interactive": {
     "language": "csharp"
    },
    "polyglot_notebook": {
     "kernelName": "csharp"
    }
   },
   "outputs": [],
   "source": [
    "// import the UserProfilePlugin\n",
    "kernel.Plugins.AddFromType<UserProfilePlugin>();"
   ]
  },
  {
   "cell_type": "markdown",
   "metadata": {},
   "source": [
    "### Invoke the LLM"
   ]
  },
  {
   "cell_type": "code",
   "execution_count": 22,
   "metadata": {
    "dotnet_interactive": {
     "language": "csharp"
    },
    "polyglot_notebook": {
     "kernelName": "csharp"
    }
   },
   "outputs": [
    {
     "data": {
      "text/plain": [
       "{\"portfolio\":[{\"symbol\":\"MSFT\",\"gptRecommendation\":\"Hold on to Microsoft, it's a tech giant with steady growth potential!\"},{\"symbol\":\"ACN\",\"gptRecommendation\":\"Accenture is a solid choice, keep it in your portfolio for services boom!\"},{\"symbol\":\"JPM\",\"gptRecommendation\":\"JPMorgan Chase is a strong financial stock, hold on to it!\"},{\"symbol\":\"PEP\",\"gptRecommendation\":\"PepsiCo is a stable consumer goods stock, keep it in your portfolio!\"}]}"
      ]
     },
     "metadata": {},
     "output_type": "display_data"
    }
   ],
   "source": [
    "var result = await kernel.InvokeAsync(\n",
    "            advisorPlugin,\n",
    "            arguments\n",
    "        );\n",
    "result.GetValue<string>()"
   ]
  },
  {
   "cell_type": "markdown",
   "metadata": {},
   "source": [
    "![RaG Workflow](../../../../assets/images/sk-memory-orchestration.png)"
   ]
  }
 ],
 "metadata": {
  "kernelspec": {
   "display_name": ".NET (C#)",
   "language": "C#",
   "name": ".net-csharp"
  },
  "language_info": {
   "name": "polyglot-notebook"
  },
  "polyglot_notebook": {
   "kernelInfo": {
    "defaultKernelName": "csharp",
    "items": [
     {
      "aliases": [],
      "name": "csharp"
     }
    ]
   }
  }
 },
 "nbformat": 4,
 "nbformat_minor": 2
}
