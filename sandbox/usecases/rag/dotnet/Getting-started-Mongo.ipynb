{
 "cells": [
  {
   "attachments": {},
   "cell_type": "markdown",
   "metadata": {},
   "source": [
    "# Getting Started with Miyagi's Retrieval Augmented Generation (RaG) Workflow using Azure Cognitive Search (ACS) and Semantic Kernel\n",
    "\n",
    "To quickly get started, follow these steps:\n",
    "\n",
    "1. Ensure the [Polyglot notebooks extension](https://marketplace.visualstudio.com/items?itemName=ms-dotnettools.dotnet-interactive-vscode) is installed.\n",
    "2. [Create a new Azure OpenAI service (or use an existing OpenAI service)](https://learn.microsoft.com/en-us/azure/ai-services/openai/chatgpt-quickstart?tabs=command-line&pivots=programming-language-studio#prerequisites).\n",
    "3. [Deploy the `gpt-35-turbo` and `text-embeddings-ada-002` models](https://learn.microsoft.com/en-us/azure/ai-services/openai/concepts/models#working-with-models).\n",
    "4. [Create an Azure Cognitive Search instance and enable the Semantic Search capability](https://learn.microsoft.com/en-us/azure/search/semantic-search-overview#enable-semantic-search).\n",
    "5. Copy the `.env.example` file from the `rag` folder to `dotnet/.env` and paste the corresponding values from the resources you provisioned in the earlier steps.\n",
    "6. Click on `Run All`.\n",
    "\n",
    "> You will need an [.Net 7 SDK](https://dotnet.microsoft.com/en-us/download) and [Polyglot](https://marketplace.visualstudio.com/items?itemName=ms-dotnettools.dotnet-interactive-vscode) to get started with this notebook using .Net Interactive"
   ]
  },
  {
   "cell_type": "markdown",
   "metadata": {},
   "source": [
    "## Overview\n",
    "In this notebook, we will show you how to quickly get started with Miyagi's Retrieval Augmented Generation (RaG) workflow using Semantic Kernel, Azure Cognitive Search (ACS) and Cosmos. Through this use case, involving stock recommendations, you will understand the basics of RaG and the capabilities of Semantic Kernel, Azure Cognitive Search and Cosmos to adapt to your specific use case."
   ]
  },
  {
   "cell_type": "markdown",
   "metadata": {},
   "source": [
    "## Load settings from .env file"
   ]
  },
  {
   "cell_type": "code",
   "execution_count": 1,
   "metadata": {
    "dotnet_interactive": {
     "language": "csharp"
    },
    "polyglot_notebook": {
     "kernelName": "csharp"
    }
   },
   "outputs": [
    {
     "data": {
      "text/html": [
       "<div><div></div><div></div><div><strong>Installed Packages</strong><ul><li><span>dotenv.net, 3.1.3</span></li></ul></div></div>"
      ]
     },
     "metadata": {},
     "output_type": "display_data"
    }
   ],
   "source": [
    "#r \"nuget: dotenv.net\"\n",
    "dotenv.net.DotEnv.Load();\n",
    "var env = dotenv.net.DotEnv.Read();"
   ]
  },
  {
   "cell_type": "markdown",
   "metadata": {},
   "source": [
    "## Prepare the kernel with memory using Azure Cognitive Search"
   ]
  },
  {
   "cell_type": "markdown",
   "metadata": {},
   "source": [
    "We first add the nuget packages (dependecies) required to instantiate the kernel. "
   ]
  },
  {
   "cell_type": "code",
   "execution_count": 2,
   "metadata": {
    "dotnet_interactive": {
     "language": "csharp"
    },
    "polyglot_notebook": {
     "kernelName": "csharp"
    }
   },
   "outputs": [
    {
     "data": {
      "text/html": [
       "<div><div></div><div></div><div><strong>Installed Packages</strong><ul><li><span>Microsoft.SemanticKernel, 1.13.0</span></li><li><span>Microsoft.SemanticKernel.Connectors.AzureAISearch, 1.13.0-alpha</span></li><li><span>Microsoft.SemanticKernel.Connectors.AzureCosmosDBMongoDB, 1.13.0-alpha</span></li><li><span>Microsoft.SemanticKernel.Core, 1.13.0</span></li><li><span>Microsoft.SemanticKernel.Plugins.Core, 1.13.0-alpha</span></li><li><span>Microsoft.SemanticKernel.Plugins.Memory, 1.13.0-alpha</span></li><li><span>Microsoft.SemanticKernel.Plugins.OpenApi, 1.0.1-alpha</span></li><li><span>Microsoft.SemanticKernel.PromptTemplates.Handlebars, 1.13.0</span></li><li><span>Microsoft.SemanticKernel.Yaml, 1.13.0</span></li></ul></div></div>"
      ]
     },
     "metadata": {},
     "output_type": "display_data"
    }
   ],
   "source": [
    "#r \"nuget: Microsoft.SemanticKernel, 1.13.0-alpha\"\n",
    "#r \"nuget: Microsoft.SemanticKernel.Core, 1.13.0-alpha\"\n",
    "#r \"nuget: Microsoft.SemanticKernel.Connectors.AzureCosmosDBMongoDB, 1.13.0-alpha\"\n",
    "#r \"nuget: Microsoft.SemanticKernel.Connectors.AzureAISearch, 1.13.0-alpha\"\n",
    "#r \"nuget: Microsoft.SemanticKernel.Plugins.OpenApi, 1.0.1-alpha\"\n",
    "#r \"nuget: Microsoft.SemanticKernel.Plugins.Memory, 1.13.0-alpha\"\n",
    "#r \"nuget: Microsoft.SemanticKernel.Plugins.Core, 1.13.0-alpha\"\n",
    "#r \"nuget: Microsoft.SemanticKernel.PromptTemplates.Handlebars, 1.13.0-alpha\"\n",
    "#r \"nuget:  Microsoft.SemanticKernel.Yaml, 1.13.0-alpha\""
   ]
  },
  {
   "cell_type": "code",
   "execution_count": 3,
   "metadata": {
    "dotnet_interactive": {
     "language": "csharp"
    },
    "polyglot_notebook": {
     "kernelName": "csharp"
    }
   },
   "outputs": [],
   "source": [
    "using Microsoft.SemanticKernel;\n",
    "using Microsoft.SemanticKernel.Connectors.AzureCosmosDBMongoDB;"
   ]
  },
  {
   "cell_type": "markdown",
   "metadata": {},
   "source": [
    "With dependencies installed and configured, we create an instance of the kernel using the built-in `Kernel.Builder` class"
   ]
  },
  {
   "cell_type": "code",
   "execution_count": 4,
   "metadata": {
    "dotnet_interactive": {
     "language": "csharp"
    },
    "polyglot_notebook": {
     "kernelName": "csharp"
    }
   },
   "outputs": [],
   "source": [
    "var builder = Kernel.CreateBuilder();\n",
    "        builder.Services.AddAzureOpenAIChatCompletion(\n",
    "            env[\"AZURE_OPENAI_CHAT_MODEL\"],\n",
    "            env[\"AZURE_OPENAI_ENDPOINT\"],\n",
    "            env[\"AZURE_OPENAI_API_KEY\"]\n",
    "        );\n",
    "\n",
    "var kernel = builder.Build();"
   ]
  },
  {
   "cell_type": "markdown",
   "metadata": {},
   "source": [
    "To make the kernel stateful, we will use Memory Plugin with a Azure Cognitive Search and Embedding backend. "
   ]
  },
  {
   "cell_type": "code",
   "execution_count": 5,
   "metadata": {
    "dotnet_interactive": {
     "language": "csharp"
    },
    "polyglot_notebook": {
     "kernelName": "csharp"
    }
   },
   "outputs": [],
   "source": [
    "using Microsoft.SemanticKernel.Connectors.AzureAISearch;\n",
    "using Microsoft.SemanticKernel.Connectors.OpenAI;\n",
    "using Microsoft.SemanticKernel.Memory;\n",
    "using Microsoft.SemanticKernel.Plugins.Core;\n",
    "//using Microsoft.SemanticKernel.Connectors.MongoDB;\n",
    "using Microsoft.SemanticKernel.Connectors.AzureCosmosDBMongoDB;\n",
    "//using Microsoft.SemanticKernel.Connectors.Postgres;\n",
    "//using Npgsql;\n",
    "  \n",
    "#pragma warning disable SKEXP0003\n",
    "#pragma warning disable SKEXP0011\n",
    "#pragma warning disable SKEXP0010\n",
    "#pragma warning disable SKEXP0021\n",
    "#pragma warning disable SKEXP0030\n",
    "#pragma warning disable SKEXP0001\n",
    "#pragma warning disable SKEXP0020\n",
    "#pragma warning disable SKEXP0032\n",
    "\n",
    "            \n",
    "// Create an embedding generator to use for semantic memory.\n",
    "\n",
    "IMemoryStore store=new AzureCosmosDBMongoDBMemoryStore(env[\"AZURE_COSMOS_MONGO_VECTORDB_CONNECTIONSTRING\"],env[\"AZURE_COSMOS_MONGO_VECTORDB_NAME\"], new AzureCosmosDBMongoDBConfig(1536));\n",
    "\n",
    "var embeddingGenerator = new AzureOpenAITextEmbeddingGenerationService(\n",
    "    env[\"AZURE_OPENAI_EMBEDDING_MODEL\"],\n",
    "    env[\"AZURE_OPENAI_ENDPOINT\"],\n",
    "    env[\"AZURE_OPENAI_API_KEY\"],\n",
    "    env[\"AZURE_OPENAI_EMBEDDING_MODEL\"]);\n",
    "SemanticTextMemory textMemory = new(store, embeddingGenerator);"
   ]
  },
  {
   "cell_type": "markdown",
   "metadata": {},
   "source": [
    "## Vectorize and persist embeddings in Azure Cognitive Search with Semantic Kernel"
   ]
  },
  {
   "cell_type": "markdown",
   "metadata": {},
   "source": [
    "Embeddings are a type of data transformation that convert text into high-dimensional vectors that capture semantic relationships between words or text chunks. This vectorized form allows machines to process text in a manner akin to numerical data, enabling operations like similarity comparison which is foundational for vector databases to retrieve meaningful context for LLMs. Embeddings are essential to generate and retrieve relevant content in a RaG workflow because:\n",
    "\n",
    "1. They normalize your data in a common mathematical representation, making it machine-friendly\n",
    "1. They compress data, retaining essential representations while reducing dimensionality\n",
    "1. They preserve relationships within your data\n",
    "1. They are representationally dense, meaning they are more efficient to store and process\n",
    "\n",
    "\n",
    "> See a visual representation of the embeddings in 2D space below (from Cohere):"
   ]
  },
  {
   "cell_type": "markdown",
   "metadata": {},
   "source": [
    "![Semantic Search](https://txt.cohere.com/content/images/2023/01/Vis-7-2.jpg)"
   ]
  },
  {
   "cell_type": "markdown",
   "metadata": {},
   "source": [
    "Now, let’s delve into the process of creating and utilizing embeddings in the context of ACS.\n",
    "\n",
    "In this scenario, we have a snippet of proprietary text data—extracted from a book—which needs to be processed and indexed for semantic search. The steps involve:\n",
    "\n",
    "1. Chunking the Text: Breaking down the text into manageable pieces, referred to as 'chunks'.\n",
    "1. Generating Embeddings: Transforming these chunks into high-dimensional vectors using an Azure Text Embedding Generation Service.\n",
    "1. Persisting Embeddings to ACS: Storing these embeddings in Azure Cognitive Search to facilitate semantic search.\n",
    "\n",
    "The provided code snippet orchestrates these steps. It reads the text data from a local file, chunks it, generates embeddings for each chunk, and then persists these embeddings to ACS. The specific operations are abstracted for simplicity using methods like SaveInformationAsync, which is part of a hypothetical kernel object in this code. The end result is a collection of indexed embeddings in ACS that significantly enhance search quality by moving beyond mere keyword matching to understanding semantic relationships."
   ]
  },
  {
   "cell_type": "code",
   "execution_count": 6,
   "metadata": {
    "dotnet_interactive": {
     "language": "csharp"
    },
    "polyglot_notebook": {
     "kernelName": "csharp"
    }
   },
   "outputs": [
    {
     "name": "stdout",
     "output_type": "stream",
     "text": [
      "SYNOPSIS\n",
      "This book will not teach you how to beat the market. However, it will teach you how to reduce risk, protect your capital from loss and reliably generate sustainable returns over the long run. Warren Buffett calls the Intelligent Investor \"\"by far the best book on investing ever written.\"\"\n",
      "Benjamin's proven value investing approach replaces risky attempts to project future share prices with sound investments based on the underlying value of the company's tangible assets.\n",
      "The Intelligent Investor by Benjamin Graham gives you everything you need to equip yourself with the investor's mindset necessary to avoid the panic of market fluctuations that plague the ordinary investor. Don't be ordinary. Be intelligent.\n",
      "\n",
      "TOP 20 INSIGHTS\n",
      "There are two kinds of investors. Defensive investors aim to protect their capital from losses, generate decent returns and minimize frequent decisions. Enterprising investors devote most of their time to manage their portfolios actively. An enterprising investor does not take more risks than a defensive investor but invests more in stock selection.\n",
      "Part-time investors should stick to defensive investment strategies. Defensive investors can achieve a decent result with minimum effort and capability. However, even a marginal improvement from this result is challenging and requires extraordinary knowledge and skill. An attempt to outsmart the market by spending a little extra time and effort will primarily result in below-average gains.\n",
      "Confusing speculation with investment can be a costly mistake. Speculators buy hot stocks based on future growth prospects. In contrast, investment is made on a thorough analysis of the underlying business to ensure the safety of principal and adequate — but not extraordinary — gain. Invest in a stock only when you can comfortably own it without following its daily share price.\n",
      "If you cannot resist the urge to bet on the next big growth stock, set strict limits on speculation. Keep a separate speculative account with less than 10% of your capital for speculative activities. Never mix money from the investment account and speculation account.\n",
      "It's a risky idea to speculate on high-growth industries, and high-growth stocks are a risky idea. The growth prospects for a business do not necessarily result in profits for investors. Because these stocks are often overpriced, growth may not result in proportional returns. Only eight of the largest 150 companies on the Fortune 500 list managed to grow earnings by at least 15% over two decades.\n",
      "Graham strongly urges investors to stay away from Initial Public Offerings. IPOs often happen in bull markets and lead to inflated valuations. When the bear market begins, these overheated speculative stocks are the first to crash and cause severe losses.\n",
      "An investor who bought every IPO at its public closing price and held on for three years, from 1980 to 2001, would have underperformed the market by 23% annually.\n",
      "A sure way to predict the end of a bull market is when the stocks of new nondescript small businesses are priced higher than reputed medium-sized companies. The bull run of the 1980s saw over 4000 stocks created.\n",
      "This lead to the 1987 crash. IPOs dried up between 1988 to 1990, which lead to the 90's bull market. During this time, over 5000 new stocks were created, which led to the 2001 crash of the dot com bubble.\n",
      "It is dangerous for ordinary investors to time the market. Value investors instead identify and invest in large, conservatively financed companies whose present value as estimated by tangible assets is substantially below their current stock prices. There is no attempt to predict an uncertain future, and there is enough margin to absorb unfavorable developments.\n",
      "Never buy any security far above its tangible asset value. Though outstanding companies are often worth several times their tangible asset value, the investor becomes too dependent on stock market fluctuations. In contrast, an investor who purchases stocks close to tangible asset value can ignore market fluctuations, confident that he has bought an interest in a sound business for a reasonable price.\n",
      "Price and value are two different concepts. Think of Mr. Market as an irrational investor in a business you also invested in. He frequently changes his mind and quotes wildly different prices for your share.\n",
      "His behavior will hardly change your fundamental perception about the value of the business. However, you would gladly buy when his price is far lower than the business value and sell when his price is far higher than the business value.\n",
      "The start of a bear market is good news for intelligent investors. They recognize that stocks become riskier as their prices rise and less risky as their prices crash. A bear market is a considerably safer time to buy stocks close to their asset value and build sustainable wealth.\n",
      "A defensive investor's portfolio must have 50% in high-grade bonds and 50% in common stocks irrespective of market conditions. Doing so will prevent them from buying excess shares in a bull market and rushing into bonds in the bear market. Once they set up their portfolio, the defensive investor checks every six months to rebalance it if market change alters this ratio by over 5%.\n",
      "Enterprising investors' confidence in their professional analysis may reduce their stock component to 25% when the markets are dangerously high and raise their stock component to 75% at the bottom of a bear market. However, a minimum of 25% in bonds is essential as it will give investors the cushion to hold on to stocks even through the worst bear markets.\n",
      "Purchase only tax-free municipal bonds unless you fall in the lowest tax bracket. Choose bonds that mature in five to 10 years as they remain relatively stable with interest rate fluctuations. Bond funds are an excellent choice for individual investors as they offer cheap and easy diversification to minimize risk.\n",
      "Both Graham and Warren Buffet recommend index funds as the best long-term bet for defensive investors. Index funds own a cross-section of the entire market without any stock selection. While they may be unglamorous and show steady returns compared to more aggressive funds, index funds have low risk and have historically outperformed most mutual funds over 20 year periods.\n",
      "If you enjoy stock selection, make the index fund the foundation of your portfolio and experiment with around 10% of funds. Buy only stocks priced below 22.5 times the average 12-month earnings. The stock price must not be higher than 1.\n",
      "5 times the book value. If the book value multiplier is low, the earnings multiplier can be higher. But the product of the multiplier of earnings and multiplier of book value should not exceed 22.5.\n",
      "Do not be swayed by home bias. Familiarity often prevents investors from doing the required due diligence before picking a stock. Many average investors make the mistake of buying familiar stocks or stocks of their own companies. On average, 401(k) investors keep between 25% to 30% of their retirement assets in their company's stock.\n",
      "Graham insists on using a multi-year average of past returns to calculate Price/Earnings ratio. Consider a company that earned $0.50 per share over six years but earned $3 over the last 12 months. At 25 times the P/E ratio based on the last year, the stock would be valued at $75. In contrast, valued at 25 times the average earnings over the past seven years, the stock would be valued at just $21.43.\n",
      "Prevention of losses takes priority over improving gains. Assume an investor buys a stock at the peak of a bull market that can generate 5% above average market returns. The bull market ends, and the stock drops by 50% the following year. Even if the stock gains 10% every year, it will take beyond 16 years to overtake market returns.\n",
      "The margin of safety is essential to ensure against loss and improve upside potential. The stock price must be substantially lower than its underlying tangible asset value. In 1973, Warren Buffet invested in The Washington Post when it was priced at $83 million, and its assets were worth at least $400 million. The investment had both a substantial margin of safety and massive growth potential.\n",
      "Graham designed his approach to craft a reliable portfolio that requires minimum maintenance and offers maximum odds of a steady return.\n",
      "By sticking to a formula for investment decisions, the defensive investor gives up the risk of speculating on stock movements and gains steady returns. After the initial curation, if the investor trades more than twice a year, it is a clear sign something has gone wrong.\n",
      "[widget]\n",
      "SUMMARY\n",
      "Price and value are two different concepts, and stock prices frequently don't reflect a company's actual value. More risk does not necessarily correlate with more gain.\n",
      "On the contrary, a substantial margin of safety and the difference between stock price and fundamental asset value can protect against loss while improving potential upside. Value investing can help you create a core portfolio that frees you from the need to track market prices and guarantee maximum odds of a steady return.\n",
      "Graham's value investing approach is a reliable, risk-free path to protecting one's investments and generating decent stock market returns. It replaces risky speculation on future stock prices with a systematic way to derisk investments and build wealth.\n",
      "Investors and speculators\n",
      "It is essential to distinguish investment from speculation. An investment, according to Graham, is based on thorough analysis that promises both safeties of principal and an adequate return. Three components of this definition are essential:\n",
      "Base purchases on a thorough analysis of a company's underlying businesses.\n",
      "Focus on preventing severe losses.\n",
      "Seek \"adequate\" and not extraordinary gains.\n",
      "Speculators, on the other hand, buy stocks based on projected future growth in price. Every nonprofessional who operates on margin or buys \"hot\" stocks is effectively speculating or gambling.\n",
      "Speculation lowers the odds of building wealth. Do not speculate under the illusion that you are making an investment decision. If you wish to speculate, put aside a small portion of the capital (below 10%) in a separate fund.\n",
      "Speculative approaches that don't work\n",
      "1. Betting on growth stocks\n",
      "\n",
      "Many investors fall for the allure of growth stocks. Just because a growth stock performed better than average in the past and is projected to do so into the future doesn't mean it will — it's a risk.\n",
      "There is no foolproof way to select and concentrate on the most promising companies in the most reliable industries.\n",
      "Common stocks with good records sell for a corresponding premium. The investor may be right about the company's prospects and yet not benefit because he has probably overpaid for the stock.\n",
      "Unusually rapid growth cannot continue forever because the increase in size makes subsequent growth more difficult. From 1960 to 1999, only 8 of the largest 150 companies on the Fortune 500 list managed to grow earnings by at least 15% over two decades.\n",
      "Between 1992 to December 2002, funds investing in large growth companies underperformed the stock market by an average of 3.7 percentage points every year.\n",
      "Growth stocks swing wildly, giving rise to a highly speculative risk element. The more the stock advances, the higher the frenzy, the riskier it becomes. Experienced investors have had their investments wiped out speculating on hot Airline stocks in the 1950s and booming Internet stocks during the Dotcom Bubble.\n",
      "Avoiding a loss takes priority over improving gains. To make up for a 95% loss in value requires the investor to make an astounding gain of 1900%.\n",
      "[widget]\n",
      "2. Initial public offerings\n",
      "Graham warns investors to avoid purchasing Initial Public Offerings (IPOs), particularly in bull markets — for two reasons. First, IPOs offer a higher built-in commission, leading to a harder sell. Second, new issues are nearly always sold near the peak of a bull market. The initial IPOs in a rising market lead to profits fuelling a frenzy for subsequent IPOs.\n",
      "A clear sign of the end of a bull market is when IPOs of small and nondescript companies have stock values higher than medium-sized enterprises with a long history. Since the prices of these new stocks usually crash to new lows, Graham warns investors to stay away from this kind of costly speculation.\n",
      "In the 1980's bull market, 4000 stocks flooded the market, leading to the crash of 1987. IPOs dried up between 1988 -1990, contributing to the 90's bull market where nearly 5000 new stocks were listed.\n",
      "After the Dotcom bubble, only 88 companies issued IPOs in 2001. An investor who bought every IPO at its public closing price from 1980 to 2001 would have underperformed the market by more than 23% annually.\n",
      "resource image\n",
      "Defensive and enterprising investors\n",
      "\n",
      "There are two types of investors, according to Graham: Defensive and Enterprising Investors.\n",
      "\n",
      "Defensive investors primarily seek to avoid losses, generate a decent return and minimize time spent on the stock market by creating a portfolio that virtually runs on autopilot.\n",
      "The Enterprising investor is willing to devote more time and effort to researching securities, hoping to make a better average return than the passive investor over the long term. Graham's enterprising investor is not someone willing to take more risks than the defensive investor.\n",
      "Playing with risk is the domain of a speculator. The enterprising investor must have sufficient knowledge of securities to consider his investments equivalent to a full-time business.\n",
      "The enterprising approach is physically and intellectually taxing, while the passive approach is emotionally demanding, asking the investor to do nothing for years. There is no room for a middle ground between a defensive and enterprising investor.\n",
      "An ordinary investor can achieve a decent result with minimal effort, but even a marginal improvement on this result requires extraordinary knowledge and skill. Putting a little more time and effort to improve outcomes through stock selection is sure to result in below-average returns. Therefore, most investors must recognize that they are defensive investors and should use suitable strategies.\n",
      "[widget]\n",
      "Principles of value investing\n",
      "The predictive and protective approaches\n",
      "Investors can take advantage of market swings in two ways. Prediction involves estimating the future growth of a company's earnings through mathematical methods. Speculators attempt to time the market by buying based on growth predictions and selling based on predicted declines.\n",
      "Projection is dangerous because the future is uncertain, and inflation, economic recessions, pandemics and geopolitical upheavals often arrive without warning. Graham argues that it is a fool's errand for an ordinary investor to attempt making money by timing the market.\n",
      "Graham advocates for a protection-based approach that does not try to time the market. Value investors should identify and invest in large, conservatively financed companies whose present value (as estimated by tangible assets) is substantially below their current stock prices.\n",
      "A protection-based approach creates a margin to absorb unfavorable developments in the future. The focus is on ensuring tangible value in purchasing the stock at current prices\n",
      "Think like a partner\n",
      "\n",
      "A shareholder can see themselves as the buyer and seller of shares whose prices vary by the moment or as a minority partner in a private business whose value depends on the assets and profits of the enterprise. While many companies are worth far more than their net assets, the buyers of their stock become dependent on the stock market fluctuations.\n",
      "Investors should limit themselves to securities currently selling for not that far above their tangible asset value for both practical and psychological reasons. When an investor pays well above net asset value for a share, they become a speculator dependent on the vagaries of the stock market to generate a profit.\n",
      "However, an investor who buys shares near the net-asset value of a company can consider themselves the part-owner of a sound and expanding business acquired at a reasonable price.\n",
      "Unlike the speculator who paid high multiples of earnings and tangible assets, they can take a detached view and ignore stock market fluctuations. This conservative policy is likely to work out better than risky investments based on anticipated growth.\n",
      "Meet Mr. Market\n",
      "Graham gives the allegory of Mr. Market to illustrate the investor's ideal attitude to the stock market. Imagine you paid $1000 to buy a small share in a private business. One of the partners, Mr. Market, tells you every day what your share is worth and offers to buy or sell additional interest in the business. Unlike a private buyer, Mr.\n",
      "Market often quotes exuberantly high values or absurdly low ones. Given this situation, there is no way a sensible investor will rely on Mr. Market to understand the underlying value of their shareholding. However, they would be more than happy to buy from Mr. Market when he quotes meager rates and sell to Mr. Market when he quotes relatively high rates.\n",
      "Similarly, a defensive investor who has made a value-based investment based on sound business fundamentals will ignore the stock market valuation apart from taking advantage of its swings. Graham goes so far as to say that the single biggest reason investors fail is that they pay too much attention to what the stock market is currently doing.\n",
      "Intelligent investors should be comfortable holding their stocks even if they don't see the daily stock market prices for years. Experiments have shown that investors who received frequent news updates about their stocks earned half the returns of investors who received no information at all.\n",
      "resource image\n",
      "[widget]\n",
      "A defensive investor's stock portfolio\n",
      "Asset allocation\n",
      "Graham suggests a mechanical 50-50 split between stocks and bonds for defensive investors to guard against over-purchasing shares in a bull market and rushing into bonds in a bear market. The only action they should take is to rebalance their portfolio every six months if market developments alter this 50-50 ratio by over 5%.\n",
      "On the other hand, enterprising investors can increase their stocks up to 75% when markets are low and reduce it up to 25% when markets are at their peak. However, a minimum of 25% in bonds is necessary to give investors the peace of mind to hold onto stocks in the worst bear markets.\n",
      "\n",
      "Bonds\n",
      "Unless investors are in the lowest tax bracket, they should purchase only tax-free municipal bonds. The only place to own taxable bonds is inside the 401(k) account. As interest rates rise, short-term bonds fall less than long-term bonds. But when interest rates fall, a long-term bond will outperform short-term ones.\n",
      "Therefore, to avoid guessing interest rates, it's best to buy bonds that mature in five to 10 years as they remain relatively stable. Bond funds are a better idea than individual bonds as they offer an easy way to diversify and reduce risk.\n",
      "Mutual funds\n",
      "A defensive investor can follow two approaches to stock selection. First, they can rely on a diversified cross-section of the market through an index fund. Second, they can create a quantitatively tested portfolio of reliable stocks.\n",
      "Mutual funds are a fantastic way for a defensive investor to capture the upside of diversified stock ownership without the effort of actively monitoring one's portfolio.\n",
      "A defensive investor's best long-term bet is to invest in index funds that own all stocks in the market without trying to select the \"best\" stocks. The low trading costs and operating expenditures mean that an index fund will outperform most mutual funds over the long run.\n",
      "Both Graham and Warren Buffet recommend index funds as the best choice for individual investors to own stocks. Take advantage of dollar-cost averaging by investing the same amount every month in a portfolio of index funds. This simple practice ensures that you buy more shares when the markets are low than when it is high.\n",
      "Stock selection\n",
      "\n",
      "If you enjoy the intellectual challenge of picking stocks, you can make the index fund the foundation of your portfolio and experiment with a small portion of funds (~10%) on stocks. Here are Graham's rules for the defensive investor's stock portfolio:\n",
      "There should be adequate diversification with a minimum of ten stocks and a maximum of 30. Avoid overexposure to a single industry.\n",
      "Each company selected must be significant, prominent and conservatively financed.\n",
      "Each company must have ten years of continuous dividend payments.\n",
      "The investor must not pay more than 25 times the average earnings over seven years and not more than 20 times the average earnings of the last year.\n",
      "Investors must not look for better than average returns by investing in growth stocks. They carry too much risk due to the high speculative element in their prices. Instead, they must confine themselves to large established companies with a history of profitable operations, stable financial conditions and reasonable profit/earnings ratio.\n",
      "Wall Street calculates the Price/Earnings ratio primarily on next year's earnings. However, Graham insists on calculating the Price/Earnings Ratio based on a multi-year average of past returns, which lowers the odds that an investor will overvalue the company simply because it had an odd profitable year or has high revenue projections.\n",
      "Let's say a company has earned $0.50 per share over six years but earned $3 over the last 12 months. At 25 times the P/E ratio (based on the last year), the stock would be valued at $75. In contrast, valued at 25 times the average earnings over the past seven years, and the stock would be valued at just $21.43.\n",
      "[widget]\n",
      "Stock analysis for defensive investors\n",
      "Here are Graham's criteria for stock selection:\n",
      "\n",
      "Size of the Enterprise:\n",
      "Choose companies with at least $2 billion in annual assets to ensure they are large enough to avoid high volatility in stock prices.\n",
      "Strong Financials\n",
      "The company's current assets must be twice the current liabilities to ensure a cushion for difficult times. Long-term debt must not exceed working capital. In 2003, about 120 of the S&P 500 companies met this ratio.\n",
      "Earnings Stability:\n",
      "There must be some earnings for the common stock over the past ten years. 86% of companies in the S&P index had positive earnings every year from 1993 to 2002.\n",
      "\n",
      "Dividend Record:\n",
      "They should have processed uninterrupted payments for at least 20 years. Over 255 companies had paid dividends from 1993 to 2002.\n",
      "\n",
      "Earnings Growth:\n",
      "The company should show a minimum increase of at least 33% in per-share earnings over the past ten years. Over 260 companies met this standard as of 2002.\n",
      "Moderate Price/Earnings Ratio:\n",
      "The stock's current price should not be more than 15 times the average earnings of the past three years. This multiple, adjusted for 2002 levels, is 22.5 times the average earnings of the past three years.\n",
      "Moderate Ratio of Price to Assets:\n",
      "The stock price must not be more than 1.5 times the last book value. If the multiplier of earnings is below 15, it can justify a higher multiplier of assets.\n",
      "Graham's rule of thumb is that the company's total multiplier of earnings and multiplier of book value should not exceed 22.5. The overall portfolio of stocks must have an earnings/price ratio at least as high as the current bond rate. If you find this degree of analysis difficult, avoid stock picking and invest entirely in index funds.\n",
      "Graham designed this approach to create a core portfolio that requires minimal maintenance and a maximal chance of a steady return. After curating the initial portfolio, if the investor is trading more than twice a year, it is a clear sign something has gone wrong.\n",
      "The defensive investor wins the race by sitting still. By sticking to an autopilot formula for investment decisions, the defensive investor gives up the risk of speculating on stock movements and worrying about market swings.\n",
      "resource image\n",
      "Margin of safety\n",
      "An investor must insist on a margin of safety in every investment to absorb negative changes. This margin of safety is the difference between the percentage of earnings at the price paid and the interest rate on bonds.\n",
      "The price at which you acquire the stock is the crucial determinant of being a good or a bad buy. You should skip even the best company if the price goes too high and consider even the worst company if its stock goes low enough to create a substantial margin of safety.\n",
      "Assume an investor buys a stock that can grow at 10% per year at a time when the market grows 5% annually — but it's at the height of a bull market, and the stock drops by 50% the following year.\n",
      "Even if the stock continues to perform at 5% above market value, it will take the investor more than 16 years to overtake the market. All because they bought at the wrong price. By refusing to overpay, you minimize chances of wealth destruction.\n",
      "With value investing, you can achieve satisfactory investment results over the long run with reduced risk and without losing sleep over periodic market fluctuations. All it requires is the discipline to never purchase far above tangible asset value, resist the urge to invest in glamorous growth stocks and replace the mindset of a speculator with the investment approach of a partner.\n",
      "Saved 24 chunks to memory collection miyagi-investment-thesis\n"
     ]
    }
   ],
   "source": [
    "using Microsoft.SemanticKernel.Text;\n",
    "using System.IO;\n",
    "#pragma warning disable SKEXP0050\n",
    "\n",
    "#pragma warning disable SKEXP0055\n",
    "\n",
    "var dataset = \"intelligent-investor.txt\";\n",
    "var recommendationServicePath = \"../../../../services/recommendation-service/dotnet\";\n",
    "const int MaxTokensPerParagraph = 300;\n",
    "const int MaxTokensPerLine = 100;\n",
    "\n",
    "// Load text data from a local file\n",
    "var filePath = Path.Combine(recommendationServicePath, \"resources\", \"sample-datasets\", dataset);\n",
    "var streamReader = new StreamReader(filePath);\n",
    "var text = await streamReader.ReadToEndAsync();\n",
    "\n",
    "// Define a memory collection name for indexing\n",
    "var memoryCollectionName = \"miyagi-investment-thesis\";\n",
    "\n",
    "// Chunk the text into lines and paragraphs for manageable processing\n",
    "var lines = TextChunker.SplitPlainTextLines(text, MaxTokensPerLine);\n",
    "var chunks = TextChunker.SplitPlainTextParagraphs(lines, MaxTokensPerParagraph);\n",
    "\n",
    "// Loop through each chunk to generate embeddings and persist to ACS\n",
    "for (var i = 0; i < chunks.Count; i++)\n",
    "{\n",
    "    var chunk = chunks[i];\n",
    "    System.Console.WriteLine($\"{chunk}\");\n",
    "    // Generate an identifier for each chunk\n",
    "    await textMemory.SaveInformationAsync(\n",
    "        memoryCollectionName,\n",
    "        chunk,\n",
    "        $\"{dataset}-{i}\",\n",
    "        $\"Dataset: {dataset} Chunk: {i}\",\n",
    "        i.ToString());\n",
    "}\n",
    "\n",
    "// Output the result to console\n",
    "System.Console.WriteLine($\"Saved {chunks.Count} chunks to memory collection {memoryCollectionName}\");\n"
   ]
  },
  {
   "cell_type": "markdown",
   "metadata": {},
   "source": [
    "## Search and retrieve documents using Semantic Kernel"
   ]
  },
  {
   "cell_type": "markdown",
   "metadata": {},
   "source": [
    "To search and retrieve documents, we will use the `SearchAsync` method of Semantic memory that encapsulates retrieval abstractions of different memory providers. This method takes in a query and returns a list of documents that are relevant to the query."
   ]
  },
  {
   "cell_type": "code",
   "execution_count": 7,
   "metadata": {
    "dotnet_interactive": {
     "language": "csharp"
    },
    "polyglot_notebook": {
     "kernelName": "csharp"
    }
   },
   "outputs": [
    {
     "name": "stdout",
     "output_type": "stream",
     "text": [
      "   Similarly, a defensive investor who has made a value-based investment based on sound business fundamentals will ignore the stock market valuation apart from taking advantage of its swings. Graham goes so far as to say that the single biggest reason investors fail is that they pay too much attention to what the stock market is currently doing.\n",
      "Intelligent investors should be comfortable holding their stocks even if they don't see the daily stock market prices for years. Experiments have shown that investors who received frequent news updates about their stocks earned half the returns of investors who received no information at all.\n",
      "resource image\n",
      "[widget]\n",
      "A defensive investor's stock portfolio\n",
      "Asset allocation\n",
      "Graham suggests a mechanical 50-50 split between stocks and bonds for defensive investors to guard against over-purchasing shares in a bull market and rushing into bonds in a bear market. The only action they should take is to rebalance their portfolio every six months if market developments alter this 50-50 ratio by over 5%.\n",
      "   Relevance: 0.8576237218863885\n",
      "\n",
      "   SYNOPSIS\n",
      "This book will not teach you how to beat the market. However, it will teach you how to reduce risk, protect your capital from loss and reliably generate sustainable returns over the long run. Warren Buffett calls the Intelligent Investor \"\"by far the best book on investing ever written.\"\"\n",
      "Benjamin's proven value investing approach replaces risky attempts to project future share prices with sound investments based on the underlying value of the company's tangible assets.\n",
      "The Intelligent Investor by Benjamin Graham gives you everything you need to equip yourself with the investor's mindset necessary to avoid the panic of market fluctuations that plague the ordinary investor. Don't be ordinary. Be intelligent.\n",
      "\n",
      "TOP 20 INSIGHTS\n",
      "There are two kinds of investors. Defensive investors aim to protect their capital from losses, generate decent returns and minimize frequent decisions. Enterprising investors devote most of their time to manage their portfolios actively. An enterprising investor does not take more risks than a defensive investor but invests more in stock selection.\n",
      "   Relevance: 0.8501124635372304\n",
      "\n"
     ]
    }
   ],
   "source": [
    " var query = \"Ben Graham's investment philosophy\";\n",
    " \n",
    " await foreach (var result in textMemory.SearchAsync(\n",
    "            collection: memoryCollectionName,\n",
    "            query: query,\n",
    "            limit: 2,\n",
    "            minRelevanceScore: 0.79,\n",
    "            withEmbeddings: true))\n",
    "        {\n",
    "            Console.WriteLine(\"   \" + result.Metadata.Text);\n",
    "            Console.WriteLine(\"   Relevance: \" + result.Relevance + \"\\n\");\n",
    "        }"
   ]
  },
  {
   "cell_type": "markdown",
   "metadata": {},
   "source": [
    "## Grounding with Native Functions and SK's Memory \"recall\"\n",
    "\n",
    "> Note that this prompt template (semantic function) is located under services/reccommendation-service/dotnet/plugins/AdvisorPlugin"
   ]
  },
  {
   "cell_type": "code",
   "execution_count": 8,
   "metadata": {
    "dotnet_interactive": {
     "language": "csharp"
    },
    "polyglot_notebook": {
     "kernelName": "csharp"
    }
   },
   "outputs": [],
   "source": [
    "using System.IO;\n",
    "using Microsoft.SemanticKernel;\n",
    "using Microsoft.SemanticKernel.PromptTemplates.Handlebars;\n",
    "\n",
    "var pluginFolder = $\"{recommendationServicePath}/Resources/Prompts\";\n",
    "\n",
    "// Construct the full file path\n",
    "var filePath = Path.Combine(pluginFolder, \"InvestmentAdvise.prompt.yaml\");\n",
    "\n",
    "KernelFunction advisorPlugin;\n",
    "\n",
    "// Use StreamReader to read the file\n",
    "using (StreamReader reader = new StreamReader(filePath))\n",
    "{\n",
    "    // Create the function from the YAML file using Handlebars template\n",
    "    advisorPlugin = kernel.CreateFunctionFromPromptYaml(\n",
    "        reader.ReadToEnd(),\n",
    "        promptTemplateFactory: new HandlebarsPromptTemplateFactory()\n",
    "    );\n",
    "}"
   ]
  },
  {
   "cell_type": "code",
   "execution_count": 9,
   "metadata": {
    "dotnet_interactive": {
     "language": "csharp"
    },
    "polyglot_notebook": {
     "kernelName": "csharp"
    }
   },
   "outputs": [],
   "source": [
    "using Microsoft.SemanticKernel.Plugins.Memory;\n",
    "\n",
    "#pragma warning disable SKEXP0001\n",
    "#pragma warning disable SKEXP0050\n",
    "#pragma warning disable SKEXP0052\n",
    "\n",
    "// recall is from the TextMemoryPlugin, which has a recall method that can be invoked from Semantic Function to perform retrieval\n",
    "KernelPlugin memoryPlugin = kernel.ImportPluginFromObject(new TextMemoryPlugin(textMemory));"
   ]
  },
  {
   "cell_type": "markdown",
   "metadata": {},
   "source": [
    "### Set Kernel Arguments (context variables)"
   ]
  },
  {
   "cell_type": "code",
   "execution_count": 10,
   "metadata": {
    "dotnet_interactive": {
     "language": "csharp"
    },
    "polyglot_notebook": {
     "kernelName": "csharp"
    }
   },
   "outputs": [
    {
     "name": "stdout",
     "output_type": "stream",
     "text": [
      "Memories: [\"Part-time investors should stick to defensive investment strategies. Defensive investors can achieve a decent result with minimum effort and capability. However, even a marginal improvement from this result is challenging and requires extraordinary knowledge and skill. An attempt to outsmart the market by spending a little extra time and effort will primarily result in below-average gains.\\r\\nConfusing speculation with investment can be a costly mistake. Speculators buy hot stocks based on future growth prospects. In contrast, investment is made on a thorough analysis of the underlying business to ensure the safety of principal and adequate \\u2014 but not extraordinary \\u2014 gain. Invest in a stock only when you can comfortably own it without following its daily share price.\\r\\nIf you cannot resist the urge to bet on the next big growth stock, set strict limits on speculation. Keep a separate speculative account with less than 10% of your capital for speculative activities. Never mix money from the investment account and speculation account.\",\"Enterprising investors\\u0027 confidence in their professional analysis may reduce their stock component to 25% when the markets are dangerously high and raise their stock component to 75% at the bottom of a bear market. However, a minimum of 25% in bonds is essential as it will give investors the cushion to hold on to stocks even through the worst bear markets.\\r\\nPurchase only tax-free municipal bonds unless you fall in the lowest tax bracket. Choose bonds that mature in five to 10 years as they remain relatively stable with interest rate fluctuations. Bond funds are an excellent choice for individual investors as they offer cheap and easy diversification to minimize risk.\\r\\nBoth Graham and Warren Buffet recommend index funds as the best long-term bet for defensive investors. Index funds own a cross-section of the entire market without any stock selection. While they may be unglamorous and show steady returns compared to more aggressive funds, index funds have low risk and have historically outperformed most mutual funds over 20 year periods.\"]\n",
      "\n"
     ]
    },
    {
     "data": {
      "text/html": [
       "<table><thead><tr><th><i>key</i></th><th><i>type</i></th><th>value</th></tr></thead><tbody><tr><td><div class=\"dni-plaintext\"><pre>userId</pre></div></td><td><span><a href=\"https://docs.microsoft.com/dotnet/api/system.string?view=net-7.0\">System.String</a></span></td><td><div class=\"dni-plaintext\"><pre>50</pre></div></td></tr><tr><td><div class=\"dni-plaintext\"><pre>stocks</pre></div></td><td><span><a href=\"https://docs.microsoft.com/dotnet/api/system.string?view=net-7.0\">System.String</a></span></td><td><div class=\"dni-plaintext\"><pre>[{&quot;symbol&quot;:&quot;MSFT&quot;,&quot;allocation&quot;:0.3},{&quot;symbol&quot;:&quot;ACN&quot;,&quot;allocation&quot;:0.1},{&quot;symbol&quot;:&quot;JPM&quot;,&quot;allocation&quot;:0.3},{&quot;symbol&quot;:&quot;PEP&quot;,&quot;allocation&quot;:0.3}]</pre></div></td></tr><tr><td><div class=\"dni-plaintext\"><pre>risk</pre></div></td><td><span><a href=\"https://docs.microsoft.com/dotnet/api/system.string?view=net-7.0\">System.String</a></span></td><td><div class=\"dni-plaintext\"><pre>aggressive</pre></div></td></tr><tr><td><div class=\"dni-plaintext\"><pre>fewShotExamples</pre></div></td><td><span><a href=\"https://docs.microsoft.com/dotnet/api/system.collections.generic.list-1?view=net-7.0\">System.Collections.Generic.List&lt;Microsoft.SemanticKernel.ChatCompletion.ChatHistory&gt;</a></span></td><td><table><thead><tr><th><i>index</i></th><th>value</th></tr></thead><tbody><tr><td>0</td><td><details class=\"dni-treeview\"><summary><span class=\"dni-code-hint\"><code>[ {&quot;stocks&quot;:[{&quot;symbol&quot;:&quot;MSFT&quot;,&quot;allocation&quot;:0.6},{&quot;symbol&quot;:&quot;ACN&quot;,&quot;allocation&quot;:0.4}]}, {&quot;portfolio&quot;:[{&quot;symbol&quot;:&quot;MSFT&quot;,&quot;gptRecommendation&quot;:&quot;Booyah! Hold on, steady growth! Diversify, though!&quot;},{&quot;symbol&quot;:&quot;ACN&quot;,&quot;gptRecommendation&quot;:&quot;Buy! Services will see a boom!&quot;}]} ]</code></span></summary><div><table><thead><tr></tr></thead><tbody><tr><td>Count</td><td><div class=\"dni-plaintext\"><pre>2</pre></div></td></tr><tr><td><i>(values)</i></td><td><table><thead><tr><th><i>index</i></th><th>value</th></tr></thead><tbody><tr><td>0</td><td><details class=\"dni-treeview\"><summary><span class=\"dni-code-hint\"><code>{&quot;stocks&quot;:[{&quot;symbol&quot;:&quot;MSFT&quot;,&quot;allocation&quot;:0.6},{&quot;symbol&quot;:&quot;ACN&quot;,&quot;allocation&quot;:0.4}]}</code></span></summary><div><table><thead><tr></tr></thead><tbody><tr><td>AuthorName</td><td><div class=\"dni-plaintext\"><pre>&lt;null&gt;</pre></div></td></tr><tr><td>Role</td><td><details class=\"dni-treeview\"><summary><span class=\"dni-code-hint\"><code>user</code></span></summary><div><table><thead><tr></tr></thead><tbody><tr><td>Label</td><td><div class=\"dni-plaintext\"><pre>user</pre></div></td></tr></tbody></table></div></details></td></tr><tr><td>Content</td><td><div class=\"dni-plaintext\"><pre>{&quot;stocks&quot;:[{&quot;symbol&quot;:&quot;MSFT&quot;,&quot;allocation&quot;:0.6},{&quot;symbol&quot;:&quot;ACN&quot;,&quot;allocation&quot;:0.4}]}</pre></div></td></tr><tr><td>Items</td><td><details class=\"dni-treeview\"><summary><span class=\"dni-code-hint\"><code>[ {&quot;stocks&quot;:[{&quot;symbol&quot;:&quot;MSFT&quot;,&quot;allocation&quot;:0.6},{&quot;symbol&quot;:&quot;ACN&quot;,&quot;allocation&quot;:0.4}]} ]</code></span></summary><div><table><thead><tr></tr></thead><tbody><tr><td>Count</td><td><div class=\"dni-plaintext\"><pre>1</pre></div></td></tr><tr><td><i>(values)</i></td><td><table><thead><tr><th><i>index</i></th><th>value</th></tr></thead><tbody><tr><td>0</td><td><details class=\"dni-treeview\"><summary><span class=\"dni-code-hint\"><code>{&quot;stocks&quot;:[{&quot;symbol&quot;:&quot;MSFT&quot;,&quot;allocation&quot;:0.6},{&quot;symbol&quot;:&quot;ACN&quot;,&quot;allocation&quot;:0.4}]}</code></span></summary><div><table><thead><tr></tr></thead><tbody><tr><td>Text</td><td>{\"stocks\":[{\"symbol\":\"MSFT\",\"allocation\":0.6},{\"symbol\":\"ACN\",\"allocation\":0.4}]}</td></tr><tr><td>Encoding</td><td>System.Text.UTF8Encoding+UTF8EncodingSealed</td></tr><tr><td>InnerContent</td><td><div class=\"dni-plaintext\"><pre>&lt;null&gt;</pre></div></td></tr><tr><td>ModelId</td><td><div class=\"dni-plaintext\"><pre>&lt;null&gt;</pre></div></td></tr><tr><td>Metadata</td><td><div class=\"dni-plaintext\"><pre>&lt;null&gt;</pre></div></td></tr><tr><td>MimeType</td><td><div class=\"dni-plaintext\"><pre>&lt;null&gt;</pre></div></td></tr></tbody></table></div></details></td></tr></tbody></table></td></tr></tbody></table></div></details></td></tr><tr><td>Encoding</td><td><details class=\"dni-treeview\"><summary><span class=\"dni-code-hint\"><code>System.Text.UTF8Encoding+UTF8EncodingSealed</code></span></summary><div><table><thead><tr></tr></thead><tbody><tr><td>Preamble</td><td><div class=\"dni-plaintext\"><pre>System.Text.UTF8Encoding+UTF8EncodingSealed</pre></div></td></tr><tr><td>BodyName</td><td><div class=\"dni-plaintext\"><pre>utf-8</pre></div></td></tr><tr><td>EncodingName</td><td><div class=\"dni-plaintext\"><pre>Unicode (UTF-8)</pre></div></td></tr><tr><td>HeaderName</td><td><div class=\"dni-plaintext\"><pre>utf-8</pre></div></td></tr><tr><td>WebName</td><td><div class=\"dni-plaintext\"><pre>utf-8</pre></div></td></tr><tr><td>WindowsCodePage</td><td><div class=\"dni-plaintext\"><pre>1200</pre></div></td></tr><tr><td>IsBrowserDisplay</td><td><div class=\"dni-plaintext\"><pre>True</pre></div></td></tr><tr><td>IsBrowserSave</td><td><div class=\"dni-plaintext\"><pre>True</pre></div></td></tr><tr><td>IsMailNewsDisplay</td><td><div class=\"dni-plaintext\"><pre>True</pre></div></td></tr><tr><td>IsMailNewsSave</td><td><div class=\"dni-plaintext\"><pre>True</pre></div></td></tr><tr><td>IsSingleByte</td><td><div class=\"dni-plaintext\"><pre>False</pre></div></td></tr><tr><td>EncoderFallback</td><td><details class=\"dni-treeview\"><summary><span class=\"dni-code-hint\"><code>System.Text.EncoderReplacementFallback</code></span></summary><div><table><thead><tr></tr></thead><tbody><tr><td>DefaultString</td><td>�</td></tr><tr><td>MaxCharCount</td><td>1</td></tr></tbody></table></div></details></td></tr><tr><td>DecoderFallback</td><td><details class=\"dni-treeview\"><summary><span class=\"dni-code-hint\"><code>System.Text.DecoderReplacementFallback</code></span></summary><div><table><thead><tr></tr></thead><tbody><tr><td>DefaultString</td><td>�</td></tr><tr><td>MaxCharCount</td><td>1</td></tr></tbody></table></div></details></td></tr><tr><td>IsReadOnly</td><td><div class=\"dni-plaintext\"><pre>True</pre></div></td></tr><tr><td>CodePage</td><td><div class=\"dni-plaintext\"><pre>65001</pre></div></td></tr></tbody></table></div></details></td></tr><tr><td>Source</td><td><div class=\"dni-plaintext\"><pre>&lt;null&gt;</pre></div></td></tr><tr><td>InnerContent</td><td><div class=\"dni-plaintext\"><pre>&lt;null&gt;</pre></div></td></tr><tr><td>ModelId</td><td><div class=\"dni-plaintext\"><pre>&lt;null&gt;</pre></div></td></tr><tr><td>Metadata</td><td><div class=\"dni-plaintext\"><pre>&lt;null&gt;</pre></div></td></tr><tr><td>MimeType</td><td><div class=\"dni-plaintext\"><pre>&lt;null&gt;</pre></div></td></tr></tbody></table></div></details></td></tr><tr><td>1</td><td><details class=\"dni-treeview\"><summary><span class=\"dni-code-hint\"><code>{&quot;portfolio&quot;:[{&quot;symbol&quot;:&quot;MSFT&quot;,&quot;gptRecommendation&quot;:&quot;Booyah! Hold on, steady growth! Diversify, though!&quot;},{&quot;symbol&quot;:&quot;ACN&quot;,&quot;gptRecommendation&quot;:&quot;Buy! Services will see a boom!&quot;}]}</code></span></summary><div><table><thead><tr></tr></thead><tbody><tr><td>AuthorName</td><td><div class=\"dni-plaintext\"><pre>&lt;null&gt;</pre></div></td></tr><tr><td>Role</td><td><details class=\"dni-treeview\"><summary><span class=\"dni-code-hint\"><code>assistant</code></span></summary><div><table><thead><tr></tr></thead><tbody><tr><td>Label</td><td><div class=\"dni-plaintext\"><pre>assistant</pre></div></td></tr></tbody></table></div></details></td></tr><tr><td>Content</td><td><div class=\"dni-plaintext\"><pre>{&quot;portfolio&quot;:[{&quot;symbol&quot;:&quot;MSFT&quot;,&quot;gptRecommendation&quot;:&quot;Booyah! Hold on, steady growth! Diversify, though!&quot;},{&quot;symbol&quot;:&quot;ACN&quot;,&quot;gptRecommendation&quot;:&quot;Buy! Services will see a boom!&quot;}]}</pre></div></td></tr><tr><td>Items</td><td><details class=\"dni-treeview\"><summary><span class=\"dni-code-hint\"><code>[ {&quot;portfolio&quot;:[{&quot;symbol&quot;:&quot;MSFT&quot;,&quot;gptRecommendation&quot;:&quot;Booyah! Hold on, steady growth! Diversify, though!&quot;},{&quot;symbol&quot;:&quot;ACN&quot;,&quot;gptRecommendation&quot;:&quot;Buy! Services will see a boom!&quot;}]} ]</code></span></summary><div><table><thead><tr></tr></thead><tbody><tr><td>Count</td><td><div class=\"dni-plaintext\"><pre>1</pre></div></td></tr><tr><td><i>(values)</i></td><td><table><thead><tr><th><i>index</i></th><th>value</th></tr></thead><tbody><tr><td>0</td><td><details class=\"dni-treeview\"><summary><span class=\"dni-code-hint\"><code>{&quot;portfolio&quot;:[{&quot;symbol&quot;:&quot;MSFT&quot;,&quot;gptRecommendation&quot;:&quot;Booyah! Hold on, steady growth! Diversify, though!&quot;},{&quot;symbol&quot;:&quot;ACN&quot;,&quot;gptRecommendation&quot;:&quot;Buy! Services will see a boom!&quot;}]}</code></span></summary><div><table><thead><tr></tr></thead><tbody><tr><td>Text</td><td>{\"portfolio\":[{\"symbol\":\"MSFT\",\"gptRecommendation\":\"Booyah! Hold on, steady growth! Diversify, though!\"},{\"symbol\":\"ACN\",\"gptRecommendation\":\"Buy! Services will see a boom!\"}]}</td></tr><tr><td>Encoding</td><td>System.Text.UTF8Encoding+UTF8EncodingSealed</td></tr><tr><td>InnerContent</td><td><div class=\"dni-plaintext\"><pre>&lt;null&gt;</pre></div></td></tr><tr><td>ModelId</td><td><div class=\"dni-plaintext\"><pre>&lt;null&gt;</pre></div></td></tr><tr><td>Metadata</td><td><div class=\"dni-plaintext\"><pre>&lt;null&gt;</pre></div></td></tr><tr><td>MimeType</td><td><div class=\"dni-plaintext\"><pre>&lt;null&gt;</pre></div></td></tr></tbody></table></div></details></td></tr></tbody></table></td></tr></tbody></table></div></details></td></tr><tr><td>Encoding</td><td><details class=\"dni-treeview\"><summary><span class=\"dni-code-hint\"><code>System.Text.UTF8Encoding+UTF8EncodingSealed</code></span></summary><div><table><thead><tr></tr></thead><tbody><tr><td>Preamble</td><td><div class=\"dni-plaintext\"><pre>System.Text.UTF8Encoding+UTF8EncodingSealed</pre></div></td></tr><tr><td>BodyName</td><td><div class=\"dni-plaintext\"><pre>utf-8</pre></div></td></tr><tr><td>EncodingName</td><td><div class=\"dni-plaintext\"><pre>Unicode (UTF-8)</pre></div></td></tr><tr><td>HeaderName</td><td><div class=\"dni-plaintext\"><pre>utf-8</pre></div></td></tr><tr><td>WebName</td><td><div class=\"dni-plaintext\"><pre>utf-8</pre></div></td></tr><tr><td>WindowsCodePage</td><td><div class=\"dni-plaintext\"><pre>1200</pre></div></td></tr><tr><td>IsBrowserDisplay</td><td><div class=\"dni-plaintext\"><pre>True</pre></div></td></tr><tr><td>IsBrowserSave</td><td><div class=\"dni-plaintext\"><pre>True</pre></div></td></tr><tr><td>IsMailNewsDisplay</td><td><div class=\"dni-plaintext\"><pre>True</pre></div></td></tr><tr><td>IsMailNewsSave</td><td><div class=\"dni-plaintext\"><pre>True</pre></div></td></tr><tr><td>IsSingleByte</td><td><div class=\"dni-plaintext\"><pre>False</pre></div></td></tr><tr><td>EncoderFallback</td><td><details class=\"dni-treeview\"><summary><span class=\"dni-code-hint\"><code>System.Text.EncoderReplacementFallback</code></span></summary><div><table><thead><tr></tr></thead><tbody><tr><td>DefaultString</td><td>�</td></tr><tr><td>MaxCharCount</td><td>1</td></tr></tbody></table></div></details></td></tr><tr><td>DecoderFallback</td><td><details class=\"dni-treeview\"><summary><span class=\"dni-code-hint\"><code>System.Text.DecoderReplacementFallback</code></span></summary><div><table><thead><tr></tr></thead><tbody><tr><td>DefaultString</td><td>�</td></tr><tr><td>MaxCharCount</td><td>1</td></tr></tbody></table></div></details></td></tr><tr><td>IsReadOnly</td><td><div class=\"dni-plaintext\"><pre>True</pre></div></td></tr><tr><td>CodePage</td><td><div class=\"dni-plaintext\"><pre>65001</pre></div></td></tr></tbody></table></div></details></td></tr><tr><td>Source</td><td><div class=\"dni-plaintext\"><pre>&lt;null&gt;</pre></div></td></tr><tr><td>InnerContent</td><td><div class=\"dni-plaintext\"><pre>&lt;null&gt;</pre></div></td></tr><tr><td>ModelId</td><td><div class=\"dni-plaintext\"><pre>&lt;null&gt;</pre></div></td></tr><tr><td>Metadata</td><td><div class=\"dni-plaintext\"><pre>&lt;null&gt;</pre></div></td></tr><tr><td>MimeType</td><td><div class=\"dni-plaintext\"><pre>&lt;null&gt;</pre></div></td></tr></tbody></table></div></details></td></tr></tbody></table></td></tr></tbody></table></div></details></td></tr></tbody></table></td></tr><tr><td><div class=\"dni-plaintext\"><pre>voice</pre></div></td><td><span><a href=\"https://docs.microsoft.com/dotnet/api/system.string?view=net-7.0\">System.String</a></span></td><td><div class=\"dni-plaintext\"><pre>Jim Cramer</pre></div></td></tr><tr><td><div class=\"dni-plaintext\"><pre>memories</pre></div></td><td><span><a href=\"https://docs.microsoft.com/dotnet/api/system.string?view=net-7.0\">System.String</a></span></td><td><div class=\"dni-plaintext\"><pre>[&quot;Part-time investors should stick to defensive investment strategies. Defensive investors can achieve a decent result with minimum effort and capability. However, even a marginal improvement from this result is challenging and requires extraordinary knowledge and skill. An attempt to outsmart the market by spending a little extra time and effort will primarily result in below-average gains.\\r\\nConfusing speculation with investment can be a costly mistake. Speculators buy hot stocks based on future growth prospects. In contrast, investment is made on a thorough analysis of the underlying business to ensure the safety of principal and adequate \\u2014 but not extraordinary \\u2014 gain. Invest in a stock only when you can comfortably own it without following its daily share price.\\r\\nIf you cannot resist the urge to bet on the next big growth stock, set strict limits on speculation. Keep a separate speculative account with less than 10% of your capital for speculative activities. Never mix money from the investment account and speculation account.&quot;,&quot;Enterprising investors\\u0027 confidence in their professional analysis may reduce their stock component to 25% when the markets are dangerously high and raise their stock component to 75% at the bottom of a bear market. However, a minimum of 25% in bonds is essential as it will give investors the cushion to hold on to stocks even through the worst bear markets.\\r\\nPurchase only tax-free municipal bonds unless you fall in the lowest tax bracket. Choose bonds that mature in five to 10 years as they remain relatively stable with interest rate fluctuations. Bond funds are an excellent choice for individual investors as they offer cheap and easy diversification to minimize risk.\\r\\nBoth Graham and Warren Buffet recommend index funds as the best long-term bet for defensive investors. Index funds own a cross-section of the entire market without any stock selection. While they may be unglamorous and show steady returns compared to more aggressive funds, index funds have low risk and have historically outperformed most mutual funds over 20 year periods.&quot;]</pre></div></td></tr></tbody></table><style>\r\n",
       ".dni-code-hint {\r\n",
       "    font-style: italic;\r\n",
       "    overflow: hidden;\r\n",
       "    white-space: nowrap;\r\n",
       "}\r\n",
       ".dni-treeview {\r\n",
       "    white-space: nowrap;\r\n",
       "}\r\n",
       ".dni-treeview td {\r\n",
       "    vertical-align: top;\r\n",
       "    text-align: start;\r\n",
       "}\r\n",
       "details.dni-treeview {\r\n",
       "    padding-left: 1em;\r\n",
       "}\r\n",
       "table td {\r\n",
       "    text-align: start;\r\n",
       "}\r\n",
       "table tr { \r\n",
       "    vertical-align: top; \r\n",
       "    margin: 0em 0px;\r\n",
       "}\r\n",
       "table tr td pre \r\n",
       "{ \r\n",
       "    vertical-align: top !important; \r\n",
       "    margin: 0em 0px !important;\r\n",
       "} \r\n",
       "table th {\r\n",
       "    text-align: start;\r\n",
       "}\r\n",
       "</style>"
      ]
     },
     "metadata": {},
     "output_type": "display_data"
    }
   ],
   "source": [
    "using System.Text.Json;\n",
    "using Microsoft.SemanticKernel.ChatCompletion;\n",
    "\n",
    "#pragma warning disable SKEXP0052\n",
    "#pragma warning disable SKEXP0001\n",
    "#pragma warning disable SKEXP0050\n",
    "#pragma warning disable SKEXP0052\n",
    "// Create few-shot examples\n",
    "List<ChatHistory> fewShotExamples = [\n",
    "    [\n",
    "        new ChatMessageContent(AuthorRole.User, @\"{\"\"stocks\"\":[{\"\"symbol\"\":\"\"MSFT\"\",\"\"allocation\"\":0.6},{\"\"symbol\"\":\"\"ACN\"\",\"\"allocation\"\":0.4}]}\"),\n",
    "        new ChatMessageContent(AuthorRole.Assistant, @\"{\"\"portfolio\"\":[{\"\"symbol\"\":\"\"MSFT\"\",\"\"gptRecommendation\"\":\"\"Booyah! Hold on, steady growth! Diversify, though!\"\"},{\"\"symbol\"\":\"\"ACN\"\",\"\"gptRecommendation\"\":\"\"Buy! Services will see a boom!\"\"}]}\")\n",
    "    ]\n",
    "];\n",
    "\n",
    "/*\n",
    "    * Resolve issue with Handlebars ProcessPositionalArguments issue with parameter parsing for TextMemoryPlugin-recall\n",
    "    * In prompt template for handlebars, the following is not working:\n",
    "    * {{TextMemoryPlugin-recall semanticQuery, miyagi-embeddings, 0.8, 3}}\n",
    "    *\n",
    "    * Meanwhile, use this alternative approach\n",
    "*/\n",
    "var memories = await kernel.InvokeAsync(memoryPlugin[\"Recall\"], new()\n",
    "{\n",
    "    [TextMemoryPlugin.InputParam] = $\"Investment advise for aggressive risk level\",\n",
    "    [TextMemoryPlugin.CollectionParam] = \"miyagi-investment-thesis\",\n",
    "    [TextMemoryPlugin.LimitParam] = \"2\",\n",
    "    [TextMemoryPlugin.RelevanceParam] = \"0.8\",\n",
    "});\n",
    "\n",
    "Console.WriteLine($\"Memories: {memories.GetValue<string>()}\");\n",
    "Console.WriteLine();\n",
    "\n",
    "// Set harcoded parameters for the AdvisorPlugin\n",
    "var stocks = new[] {\n",
    "    new {symbol = \"MSFT\", allocation = 0.3},\n",
    "    new {symbol = \"ACN\", allocation = 0.1},\n",
    "    new {symbol = \"JPM\", allocation = 0.3},\n",
    "    new {symbol = \"PEP\", allocation = 0.3}\n",
    "};\n",
    "\n",
    "var arguments = new KernelArguments\n",
    "{\n",
    "    [\"userId\"] = \"50\",\n",
    "    [\"stocks\"] = JsonSerializer.Serialize(stocks),\n",
    "    [\"risk\"] = \"aggressive\",\n",
    "    [\"fewShotExamples\"] = fewShotExamples,\n",
    "    [\"voice\"] = \"Jim Cramer\",\n",
    "    [\"memories\"] = memories.GetValue<string>()\n",
    "};\n",
    "arguments"
   ]
  },
  {
   "cell_type": "markdown",
   "metadata": {},
   "source": [
    "### Create native function"
   ]
  },
  {
   "cell_type": "code",
   "execution_count": 11,
   "metadata": {
    "dotnet_interactive": {
     "language": "csharp"
    },
    "polyglot_notebook": {
     "kernelName": "csharp"
    }
   },
   "outputs": [],
   "source": [
    "// Copyright (c) Microsoft. All rights reserved.\n",
    "\n",
    "using System.ComponentModel;\n",
    "using Microsoft.SemanticKernel;\n",
    "\n",
    "\n",
    "/// <summary>\n",
    "///     UserProfilePlugin shows a native skill example to look user info given userId.\n",
    "/// </summary>\n",
    "/// <example>\n",
    "///     Usage: kernel.ImportSkill(\"UserProfilePlugin\", new UserProfilePlugin());\n",
    "///     Examples:\n",
    "///     SKContext[\"userId\"] = \"000\"\n",
    "///     {{UserProfilePlugin.GetUserAge $userId }} => {userProfile}\n",
    "/// </example>\n",
    "public class UserProfilePlugin\n",
    "{\n",
    "    /// <summary>\n",
    "    ///     Name of the context variable used for UserId.\n",
    "    /// </summary>\n",
    "    public const string UserId = \"UserId\";\n",
    "\n",
    "    private const string DefaultUserId = \"40\";\n",
    "    private const int DefaultAnnualHouseholdIncome = 150000;\n",
    "    private const int Normalize = 81;\n",
    "\n",
    "    /// <summary>\n",
    "    ///     Lookup User's age for a given UserId.\n",
    "    /// </summary>\n",
    "    /// <example>\n",
    "    ///     SKContext[UserProfilePlugin.UserId] = \"000\"\n",
    "    /// </example>\n",
    "    [KernelFunction, Description(\"Given a userId, get user age\")]\n",
    "    public string GetUserAge(\n",
    "        [Description(\"Unique identifier of a user\")]\n",
    "        string userId)\n",
    "    {\n",
    "        // userId = context.Variables.ContainsKey(UserId) ? context[UserId] : DefaultUserId;\n",
    "        userId = string.IsNullOrEmpty(userId) ? DefaultUserId : userId;\n",
    "        \n",
    "        int age;\n",
    "\n",
    "        if (int.TryParse(userId, out var parsedUserId))\n",
    "            age = parsedUserId > 100 ? parsedUserId % Normalize : parsedUserId;\n",
    "        else\n",
    "            age = int.Parse(DefaultUserId);\n",
    "\n",
    "        // invoke a service to get the age of the user, given the userId\n",
    "        return age.ToString();\n",
    "    }\n",
    "\n",
    "    /// <summary>\n",
    "    ///     Lookup User's annual income given UserId.\n",
    "    /// </summary>\n",
    "    /// <example>\n",
    "    ///     SKContext[UserProfilePlugin.UserId] = \"000\"\n",
    "    /// </example>\n",
    "    [KernelFunction, Description(\"Given a userId, get user annual household income\")]\n",
    "    public string GetAnnualHouseholdIncome(\n",
    "        [Description(\"Unique identifier of a user\")]\n",
    "        string userId)\n",
    "    {\n",
    "        \n",
    "        // userId = context.Variables.ContainsKey(UserId) ? context[UserId] : DefaultUserId;\n",
    "        userId = string.IsNullOrEmpty(userId) ? DefaultUserId : userId;\n",
    "\n",
    "        var random = new Random();\n",
    "        var randomMultiplier = random.Next(1000, 8000);\n",
    "\n",
    "        // invoke a service to get the annual household income of the user, given the userId\n",
    "        var annualHouseholdIncome = int.TryParse(userId, out var parsedUserId)\n",
    "            ? parsedUserId * randomMultiplier\n",
    "            : DefaultAnnualHouseholdIncome;\n",
    "\n",
    "        return annualHouseholdIncome.ToString();\n",
    "    }\n",
    "}"
   ]
  },
  {
   "cell_type": "code",
   "execution_count": 12,
   "metadata": {
    "dotnet_interactive": {
     "language": "csharp"
    },
    "polyglot_notebook": {
     "kernelName": "csharp"
    }
   },
   "outputs": [],
   "source": [
    "// import the UserProfilePlugin\n",
    "kernel.Plugins.AddFromType<UserProfilePlugin>();"
   ]
  },
  {
   "cell_type": "markdown",
   "metadata": {},
   "source": [
    "### Invoke the LLM"
   ]
  },
  {
   "cell_type": "code",
   "execution_count": 13,
   "metadata": {
    "dotnet_interactive": {
     "language": "csharp"
    },
    "polyglot_notebook": {
     "kernelName": "csharp"
    }
   },
   "outputs": [
    {
     "data": {
      "text/plain": [
       "<message role=\"assistant\">{\"portfolio\":[{\"symbol\":\"MSFT\",\"gptRecommendation\":\"Booyah! Hold on, steady growth! Diversify, though!\"},{\"symbol\":\"ACN\",\"gptRecommendation\":\"Buy! Services will see a boom!\"},{\"symbol\":\"JPM\",\"gptRecommendation\":\"Financials are looking strong, buy and hold!\"},{\"symbol\":\"PEP\",\"gptRecommendation\":\"Consumer staples are a safe bet, invest for the long term!\"}]}</message>"
      ]
     },
     "metadata": {},
     "output_type": "display_data"
    }
   ],
   "source": [
    "var result = await kernel.InvokeAsync(\n",
    "            advisorPlugin,\n",
    "            arguments\n",
    "        );\n",
    "result.GetValue<string>()"
   ]
  },
  {
   "cell_type": "markdown",
   "metadata": {},
   "source": [
    "![RaG Workflow](../../../../assets/images/sk-memory-orchestration.png)"
   ]
  }
 ],
 "metadata": {
  "kernelspec": {
   "display_name": ".NET (C#)",
   "language": "C#",
   "name": ".net-csharp"
  },
  "language_info": {
   "name": "polyglot-notebook"
  },
  "polyglot_notebook": {
   "kernelInfo": {
    "defaultKernelName": "csharp",
    "items": [
     {
      "aliases": [],
      "name": "csharp"
     }
    ]
   }
  }
 },
 "nbformat": 4,
 "nbformat_minor": 2
}
