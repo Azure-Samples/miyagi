{
 "cells": [
  {
   "attachments": {},
   "cell_type": "markdown",
   "metadata": {},
   "source": [
    "# Generative use case: SQL Code gen\n",
    "\n",
    "In this notebook, we will explore how we can generate SQL from natural language. \n",
    "\n",
    "There are several options to acheive this, such as:\n",
    "1. [Langchain](https://js.langchain.com/docs/modules/chains/other_chains/sql)\n",
    "1. [Guardrails](https://shreyar.github.io/guardrails/use_cases/text2sql/text2sql/)\n",
    "1. [Guidance](https://github.com/microsoft/guidance)\n",
    "\n",
    "> Note - This can be risky, requiring thorough checks for any SQL injection or Data Exfiltration attacks."
   ]
  },
  {
   "cell_type": "markdown",
   "metadata": {},
   "source": [
    "#### 1. Import Semantic Kernel dependencies"
   ]
  },
  {
   "cell_type": "code",
   "execution_count": 1,
   "metadata": {
    "dotnet_interactive": {
     "language": "csharp"
    },
    "notebookRunGroups": {
     "groupValue": "1"
    },
    "polyglot_notebook": {
     "kernelName": "csharp"
    }
   },
   "outputs": [
    {
     "data": {
      "text/html": [
       "<div><div></div><div></div><div><strong>Installed Packages</strong><ul><li><span>Microsoft.SemanticKernel, 0.17.230704.3-preview</span></li></ul></div></div>"
      ]
     },
     "metadata": {},
     "output_type": "display_data"
    }
   ],
   "source": [
    "#r \"nuget: Microsoft.SemanticKernel, 0.17.230704.3-preview\"\n",
    "\n",
    "#!import config/Settings.cs\n",
    "\n",
    "using Microsoft.SemanticKernel;\n",
    "using Microsoft.SemanticKernel.SemanticFunctions;\n",
    "using Microsoft.SemanticKernel.Orchestration;"
   ]
  },
  {
   "cell_type": "markdown",
   "metadata": {},
   "source": [
    "#### 2. Initialize kernel"
   ]
  },
  {
   "cell_type": "code",
   "execution_count": 2,
   "metadata": {
    "dotnet_interactive": {
     "language": "csharp"
    },
    "polyglot_notebook": {
     "kernelName": "csharp"
    }
   },
   "outputs": [],
   "source": [
    "var builder = new KernelBuilder();\n",
    "\n",
    "var (_, model, azureEndpoint, apiKey, org) = Settings.LoadFromFile();\n",
    "builder.WithAzureTextCompletionService(model, azureEndpoint, apiKey);\n",
    "\n",
    "IKernel kernel = builder.Build();"
   ]
  },
  {
   "cell_type": "markdown",
   "metadata": {},
   "source": [
    "#### 3. Create a Semantic Function (Prompt Template) with a one-shot example"
   ]
  },
  {
   "cell_type": "code",
   "execution_count": 3,
   "metadata": {
    "dotnet_interactive": {
     "language": "csharp"
    },
    "polyglot_notebook": {
     "kernelName": "csharp"
    }
   },
   "outputs": [
    {
     "name": "stdout",
     "output_type": "stream",
     "text": [
      "{\"Name\":\"funcb9320cfb40b149b292c8e62fadc275b3\",\"SkillName\":\"_GLOBAL_FUNCTIONS_\",\"Description\":\"Generic function, unknown purpose\",\"IsSemantic\":true,\"IsSensitive\":false,\"TrustServiceInstance\":{},\"RequestSettings\":{\"Temperature\":0,\"TopP\":0.5,\"PresencePenalty\":0,\"FrequencyPenalty\":0,\"MaxTokens\":200,\"StopSequences\":[],\"ResultsPerPrompt\":1,\"ChatSystemPrompt\":\"Assistant is a large language model.\",\"TokenSelectionBiases\":{}},\"Parameters\":[{\"Name\":\"input\",\"Description\":\"\",\"DefaultValue\":\"\"}]}\r\n"
     ]
    }
   ],
   "source": [
    "string skPrompt = @\"\n",
    "{{$input}}\n",
    "\n",
    "Given an input question, first create a syntactically correct {dialect} query to run, then look at the results of the query and return the answer.\n",
    "Use the following format:\n",
    "\n",
    "Question: How much did a user spend at restaurants last month\n",
    "SQLQuery: SELECT \n",
    "                u.user_id,\n",
    "                u.first_name,\n",
    "                u.last_name,\n",
    "                SUM(t.transaction_amount) AS total_spent\n",
    "            FROM \n",
    "                users u\n",
    "            JOIN \n",
    "                transactions t ON u.user_id = t.user_id\n",
    "            WHERE \n",
    "                t.transaction_date >= DATE_TRUNC('month', CURRENT_DATE - INTERVAL '1 month')\n",
    "                AND t.transaction_date < DATE_TRUNC('month', CURRENT_DATE)\n",
    "                AND t.transaction_type = 'Restaurant'\n",
    "            GROUP BY \n",
    "                u.user_id, u.first_name, u.last_name; \n",
    "Only use the following tables:\n",
    "\n",
    "Table info:\n",
    "{tableInfo}\n",
    "\n",
    "Question: {input}.\n",
    "\";\n",
    "\n",
    "// create semantic function\n",
    "var textToSQL = kernel.CreateSemanticFunction(skPrompt, maxTokens: 200, temperature: 0, topP: 0.5);\n",
    "Console.WriteLine(textToSQL.ToString());"
   ]
  },
  {
   "cell_type": "markdown",
   "metadata": {},
   "source": [
    "#### 3. Create Context variables"
   ]
  },
  {
   "cell_type": "code",
   "execution_count": 4,
   "metadata": {
    "dotnet_interactive": {
     "language": "csharp"
    },
    "polyglot_notebook": {
     "kernelName": "csharp"
    }
   },
   "outputs": [],
   "source": [
    "var tableInfo = @\"\n",
    "    Users table has columns: user_id, first_name, last_name, and email.\n",
    "    Transactions table has columns: transaction_id, user_id, transaction_amount, transaction_date, and transaction_type.\n",
    "\";\n",
    "\n",
    "// context variables\n",
    "var context = kernel.CreateNewContext();\n",
    "context[\"dialect\"] = \"PostgreSQL\";\n",
    "context[\"tableInfo\"] = tableInfo;"
   ]
  },
  {
   "cell_type": "markdown",
   "metadata": {},
   "source": [
    "#### 4. Generate SQL from natural language"
   ]
  },
  {
   "cell_type": "code",
   "execution_count": 5,
   "metadata": {
    "dotnet_interactive": {
     "language": "csharp"
    },
    "polyglot_notebook": {
     "kernelName": "csharp"
    }
   },
   "outputs": [
    {
     "name": "stdout",
     "output_type": "stream",
     "text": [
      "\n",
      "SQLQuery: SELECT \n",
      "                u.user_id,\n",
      "                u.first_name,\n",
      "                u.last_name,\n",
      "                MAX(t.transaction_amount) AS most_expensive_purchase\n",
      "            FROM \n",
      "                users u\n",
      "            JOIN \n",
      "                transactions t ON u.user_id = t.user_id\n",
      "            WHERE \n",
      "                t.transaction_date >= DATE_TRUNC('year', CURRENT_DATE - INTERVAL '1 year')\n",
      "            GROUP BY \n",
      "                u.user_id, u.first_name, u.last_name;\r\n"
     ]
    }
   ],
   "source": [
    "context[\"input\"] = \"Most expensive purchase in the last year\";\n",
    "var sql = await textToSQL.InvokeAsync(context);\n",
    "Console.WriteLine(sql);"
   ]
  }
 ],
 "metadata": {
  "kernelspec": {
   "display_name": ".NET (C#)",
   "language": "C#",
   "name": ".net-csharp"
  },
  "language_info": {
   "name": "polyglot-notebook"
  },
  "polyglot_notebook": {
   "kernelInfo": {
    "defaultKernelName": "csharp",
    "items": [
     {
      "aliases": [],
      "name": "csharp"
     }
    ]
   }
  }
 },
 "nbformat": 4,
 "nbformat_minor": 2
}
