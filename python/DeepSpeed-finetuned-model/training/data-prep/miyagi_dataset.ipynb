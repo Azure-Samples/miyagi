{
 "cells": [
  {
   "cell_type": "markdown",
   "source": [
    "# Miyagi fine-tuned model using DeepSpeed and LoRA (PEFT) via xTuring"
   ],
   "metadata": {
    "collapsed": false
   }
  },
  {
   "cell_type": "code",
   "execution_count": null,
   "outputs": [],
   "source": [
    "!pip install xturing --upgrade"
   ],
   "metadata": {
    "collapsed": false
   }
  },
  {
   "cell_type": "markdown",
   "source": [
    "# Initialize instruction dataset and initialize using Azure OPENAI API"
   ],
   "metadata": {
    "collapsed": false
   }
  },
  {
   "cell_type": "code",
   "execution_count": null,
   "outputs": [],
   "source": [
    "from xturing.datasets import InstructionDataset\n",
    "from xturing.model_apis.openai import Davinci, ChatGPT\n",
    "\n",
    "engine = Davinci(\"AZURE_OPENAI_API_KEY\", \"AZURE_OPENAI_ORG_ID\")\n",
    "instruction_data = InstructionDataset.generate_dataset(engine=engine, path=\"./seed_tasks.jsonl\")\n",
    "\n",
    "chat_engine = ChatGPT(\"AZURE_OPENAI_API_KEY\", \"AZURE_OPENAI_ORG_ID\")\n",
    "proprietary_data = InstructionDataset.generate_dataset_from_dir(engine=engine, path=\"./proprietary-datasets\")\n",
    "proprietary_data.save(\"./output_dataset\")"
   ],
   "metadata": {
    "collapsed": false
   }
  },
  {
   "cell_type": "markdown",
   "source": [
    "# Fine-tune using GPT-2 LoRA (PEFT)"
   ],
   "metadata": {
    "collapsed": false
   }
  },
  {
   "cell_type": "code",
   "execution_count": null,
   "outputs": [],
   "source": [
    "from xturing.models import GPT2Lora\n",
    "\n",
    "model = GPT2Lora()"
   ],
   "metadata": {
    "collapsed": false
   }
  },
  {
   "cell_type": "code",
   "execution_count": null,
   "outputs": [],
   "source": [
    "model.finetune(dataset=instruction_data)\n",
    "model.finetune(dataset=proprietary_data)"
   ],
   "metadata": {
    "collapsed": false
   }
  }
 ],
 "metadata": {
  "kernelspec": {
   "display_name": "Python 3",
   "language": "python",
   "name": "python3"
  },
  "language_info": {
   "codemirror_mode": {
    "name": "ipython",
    "version": 2
   },
   "file_extension": ".py",
   "mimetype": "text/x-python",
   "name": "python",
   "nbconvert_exporter": "python",
   "pygments_lexer": "ipython2",
   "version": "2.7.6"
  }
 },
 "nbformat": 4,
 "nbformat_minor": 0
}
